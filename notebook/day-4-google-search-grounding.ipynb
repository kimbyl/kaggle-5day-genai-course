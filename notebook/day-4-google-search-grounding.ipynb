{
 "cells": [
  {
   "cell_type": "markdown",
   "id": "b3eb3998",
   "metadata": {},
   "source": [
    "##### Copyright 2025 Google LLC."
   ]
  },
  {
   "cell_type": "code",
   "execution_count": null,
   "id": "c9bba8a1",
   "metadata": {},
   "outputs": [],
   "source": [
    "# @title Licensed under the Apache License, Version 2.0 (the \"License\");\n",
    "# you may not use this file except in compliance with the License.\n",
    "# You may obtain a copy of the License at\n",
    "#\n",
    "# https://www.apache.org/licenses/LICENSE-2.0\n",
    "#\n",
    "# Unless required by applicable law or agreed to in writing, software\n",
    "# distributed under the License is distributed on an \"AS IS\" BASIS,\n",
    "# WITHOUT WARRANTIES OR CONDITIONS OF ANY KIND, either express or implied.\n",
    "# See the License for the specific language governing permissions and\n",
    "# limitations under the License."
   ]
  },
  {
   "cell_type": "code",
   "execution_count": null,
   "id": "70196641",
   "metadata": {},
   "outputs": [
    {
     "name": "stdout",
     "output_type": "stream",
     "text": [
      "\u001b[31mERROR: You must give at least one requirement to install (see \"pip help install\")\u001b[0m\u001b[31m\n",
      "\u001b[0m\n",
      "\u001b[1m[\u001b[0m\u001b[34;49mnotice\u001b[0m\u001b[1;39;49m]\u001b[0m\u001b[39;49m A new release of pip is available: \u001b[0m\u001b[31;49m23.2.1\u001b[0m\u001b[39;49m -> \u001b[0m\u001b[32;49m25.0.1\u001b[0m\n",
      "\u001b[1m[\u001b[0m\u001b[34;49mnotice\u001b[0m\u001b[1;39;49m]\u001b[0m\u001b[39;49m To update, run: \u001b[0m\u001b[32;49mpip install --upgrade pip\u001b[0m\n",
      "Note: you may need to restart the kernel to use updated packages.\n"
     ]
    }
   ],
   "source": [
    "%pip install -Uq \"google-genai==1.7.0\""
   ]
  },
  {
   "cell_type": "markdown",
   "id": "b368ecb3",
   "metadata": {},
   "source": [
    "## Use the API"
   ]
  },
  {
   "cell_type": "code",
   "execution_count": 2,
   "id": "0c5006db",
   "metadata": {},
   "outputs": [
    {
     "data": {
      "text/plain": [
       "'1.7.0'"
      ]
     },
     "execution_count": 2,
     "metadata": {},
     "output_type": "execute_result"
    }
   ],
   "source": [
    "from google import genai\n",
    "from google.genai import types\n",
    "\n",
    "from IPython.display import Markdown, HTML, display\n",
    "\n",
    "genai.__version__"
   ]
  },
  {
   "cell_type": "code",
   "execution_count": 35,
   "id": "95d1175a",
   "metadata": {},
   "outputs": [],
   "source": [
    "import os\n",
    "\n",
    "GOOGLE_API_KEY = os.getenv(\"GOOGLE_API_KEY\")\n",
    "\n",
    "client = genai.Client(api_key=GOOGLE_API_KEY)\n",
    "MODEL_ID = 'gemini-2.5-flash-preview-04-17'"
   ]
  },
  {
   "cell_type": "code",
   "execution_count": 19,
   "id": "2dfafd8f",
   "metadata": {},
   "outputs": [],
   "source": [
    "from google.api_core import retry\n",
    "\n",
    "is_retriable = lambda e: (isinstance(e, genai.errors.APIError) and e.code in {429, 503})\n",
    "\n",
    "if not hasattr(genai.models.Models.generate_content, '__wrapped__'):\n",
    "    genai.models.Models.generate_content = retry.Retry(predicate=is_retriable)(genai.models.Models.generate_content)"
   ]
  },
  {
   "cell_type": "code",
   "execution_count": 20,
   "id": "f73558ba",
   "metadata": {},
   "outputs": [],
   "source": [
    "response = client.models.generate_content(\n",
    "    model=MODEL_ID,\n",
    "    contents=\"When and where is Billie Eilish's next concert?\"\n",
    ")"
   ]
  },
  {
   "cell_type": "code",
   "execution_count": 21,
   "id": "8d0e663f",
   "metadata": {},
   "outputs": [
    {
     "data": {
      "text/markdown": [
       "As of right now, Billie Eilish has not officially announced specific dates and locations for her next major tour.\n",
       "\n",
       "She is currently working on her upcoming third studio album. New tour dates are typically announced closer to or after an album release.\n",
       "\n",
       "To get the most up-to-date information on her future concerts, the best resources are:\n",
       "\n",
       "1.  **Billie Eilish's Official Website:** Keep an eye on the \"Tour\" or \"Dates\" section.\n",
       "2.  **Her Official Social Media Channels:** Announcements are often made there first.\n",
       "3.  **Major Ticketing Websites:** Sites like Ticketmaster, Live Nation, or AXS will list dates once they are confirmed and tickets go on sale.\n",
       "\n",
       "Check these sources regularly for updates!"
      ],
      "text/plain": [
       "<IPython.core.display.Markdown object>"
      ]
     },
     "execution_count": 21,
     "metadata": {},
     "output_type": "execute_result"
    }
   ],
   "source": [
    "Markdown(response.text)"
   ]
  },
  {
   "cell_type": "code",
   "execution_count": 22,
   "id": "62fa72ec",
   "metadata": {},
   "outputs": [
    {
     "data": {
      "text/markdown": [
       "Billie Eilish has several upcoming concert dates as part of her \"Hit Me Hard and Soft: The Tour\". According to the search results, her next concert is scheduled for April 23, 2025, at the Avicii Arena in Stockholm, Sweden. She has another concert at the same venue on April 24, 2025.\n",
       "\n",
       "Following the dates in Stockholm, she will be playing in various locations across Europe and the UK in April, May, June, and July of 2025, and then in Australia in February and March 2025. There are also North American dates listed for late 2024.\n",
       "\n",
       "To find the most up-to-date and complete list of concert dates and locations, it's recommended to check official ticketing websites like Ticketmaster, Live Nation, or StubHub, or Billie Eilish's official website."
      ],
      "text/plain": [
       "<IPython.core.display.Markdown object>"
      ]
     },
     "execution_count": 22,
     "metadata": {},
     "output_type": "execute_result"
    }
   ],
   "source": [
    "config_with_search = types.GenerateContentConfig(\n",
    "    tools=[types.Tool(google_search=types.GoogleSearch())]\n",
    ")\n",
    "\n",
    "response = client.models.generate_content(\n",
    "    model=MODEL_ID,\n",
    "    contents=\"When and where is Billie Eilish's next concert?\",\n",
    "    config=config_with_search\n",
    ")\n",
    "\n",
    "Markdown(response.candidates[0].content.parts[0].text)"
   ]
  },
  {
   "cell_type": "markdown",
   "id": "57a3218f",
   "metadata": {},
   "source": [
    "## Response Meta"
   ]
  },
  {
   "cell_type": "code",
   "execution_count": 23,
   "id": "7c62fd9a",
   "metadata": {},
   "outputs": [
    {
     "name": "stdout",
     "output_type": "stream",
     "text": [
      "ticketmaster.com: https://vertexaisearch.cloud.google.com/grounding-api-redirect/AWQVqAIqwi0F7kL78K1QZKKCR12hC10MPR2Q_TSF32mjTEWMzEYMaBW8i1p3b_5O0pHNK5-DYVz9BzGj3kYlgy29J5HU-pJBS-F_U5mniiUvrBuSCx0cEbd3XVbny2AEu-m8Ui0kDTW0yBbloRf0NNh2Ivb0BYzNMlWrnw==\n",
      "ticketmaster.co.uk: https://vertexaisearch.cloud.google.com/grounding-api-redirect/AWQVqAKoR3Afa9W1-1A19pZFPpCQOuLTKgjIyUZIowoDavfh_cOmAV92Of7G1yXVtB5zQpXXuEwg0wh0Nov3h3Id1eSFtNsr0S9ZrAfPHdL7DNpW0ILwnHirLzQKUNN-rRSiW5PYHLhHxXzalQbodeBxcAGvAyXU5Q1Gw_yw\n"
     ]
    }
   ],
   "source": [
    "while not response.candidates[0].grounding_metadata.grounding_supports or not response.candidates[0].grounding_metadata.grounding_chunks:\n",
    "    response = client.models.generate_content(\n",
    "    model=MODEL_ID,\n",
    "    contents=\"When and where is Billie Eilish's next concert?\",\n",
    "    config=config_with_search\n",
    "    )\n",
    "\n",
    "chunks = response.candidates[0].grounding_metadata.grounding_chunks\n",
    "\n",
    "for chunk in chunks:\n",
    "    print(f'{chunk.web.title}: {chunk.web.uri}')\n",
    "\n",
    "\n"
   ]
  },
  {
   "cell_type": "code",
   "execution_count": 24,
   "id": "c16e8130",
   "metadata": {},
   "outputs": [
    {
     "data": {
      "text/html": [
       "<style>\n",
       ".container {\n",
       "  align-items: center;\n",
       "  border-radius: 8px;\n",
       "  display: flex;\n",
       "  font-family: Google Sans, Roboto, sans-serif;\n",
       "  font-size: 14px;\n",
       "  line-height: 20px;\n",
       "  padding: 8px 12px;\n",
       "}\n",
       ".chip {\n",
       "  display: inline-block;\n",
       "  border: solid 1px;\n",
       "  border-radius: 16px;\n",
       "  min-width: 14px;\n",
       "  padding: 5px 16px;\n",
       "  text-align: center;\n",
       "  user-select: none;\n",
       "  margin: 0 8px;\n",
       "  -webkit-tap-highlight-color: transparent;\n",
       "}\n",
       ".carousel {\n",
       "  overflow: auto;\n",
       "  scrollbar-width: none;\n",
       "  white-space: nowrap;\n",
       "  margin-right: -12px;\n",
       "}\n",
       ".headline {\n",
       "  display: flex;\n",
       "  margin-right: 4px;\n",
       "}\n",
       ".gradient-container {\n",
       "  position: relative;\n",
       "}\n",
       ".gradient {\n",
       "  position: absolute;\n",
       "  transform: translate(3px, -9px);\n",
       "  height: 36px;\n",
       "  width: 9px;\n",
       "}\n",
       "@media (prefers-color-scheme: light) {\n",
       "  .container {\n",
       "    background-color: #fafafa;\n",
       "    box-shadow: 0 0 0 1px #0000000f;\n",
       "  }\n",
       "  .headline-label {\n",
       "    color: #1f1f1f;\n",
       "  }\n",
       "  .chip {\n",
       "    background-color: #ffffff;\n",
       "    border-color: #d2d2d2;\n",
       "    color: #5e5e5e;\n",
       "    text-decoration: none;\n",
       "  }\n",
       "  .chip:hover {\n",
       "    background-color: #f2f2f2;\n",
       "  }\n",
       "  .chip:focus {\n",
       "    background-color: #f2f2f2;\n",
       "  }\n",
       "  .chip:active {\n",
       "    background-color: #d8d8d8;\n",
       "    border-color: #b6b6b6;\n",
       "  }\n",
       "  .logo-dark {\n",
       "    display: none;\n",
       "  }\n",
       "  .gradient {\n",
       "    background: linear-gradient(90deg, #fafafa 15%, #fafafa00 100%);\n",
       "  }\n",
       "}\n",
       "@media (prefers-color-scheme: dark) {\n",
       "  .container {\n",
       "    background-color: #1f1f1f;\n",
       "    box-shadow: 0 0 0 1px #ffffff26;\n",
       "  }\n",
       "  .headline-label {\n",
       "    color: #fff;\n",
       "  }\n",
       "  .chip {\n",
       "    background-color: #2c2c2c;\n",
       "    border-color: #3c4043;\n",
       "    color: #fff;\n",
       "    text-decoration: none;\n",
       "  }\n",
       "  .chip:hover {\n",
       "    background-color: #353536;\n",
       "  }\n",
       "  .chip:focus {\n",
       "    background-color: #353536;\n",
       "  }\n",
       "  .chip:active {\n",
       "    background-color: #464849;\n",
       "    border-color: #53575b;\n",
       "  }\n",
       "  .logo-light {\n",
       "    display: none;\n",
       "  }\n",
       "  .gradient {\n",
       "    background: linear-gradient(90deg, #1f1f1f 15%, #1f1f1f00 100%);\n",
       "  }\n",
       "}\n",
       "</style>\n",
       "<div class=\"container\">\n",
       "  <div class=\"headline\">\n",
       "    <svg class=\"logo-light\" width=\"18\" height=\"18\" viewBox=\"9 9 35 35\" fill=\"none\" xmlns=\"http://www.w3.org/2000/svg\">\n",
       "      <path fill-rule=\"evenodd\" clip-rule=\"evenodd\" d=\"M42.8622 27.0064C42.8622 25.7839 42.7525 24.6084 42.5487 23.4799H26.3109V30.1568H35.5897C35.1821 32.3041 33.9596 34.1222 32.1258 35.3448V39.6864H37.7213C40.9814 36.677 42.8622 32.2571 42.8622 27.0064V27.0064Z\" fill=\"#4285F4\"/>\n",
       "      <path fill-rule=\"evenodd\" clip-rule=\"evenodd\" d=\"M26.3109 43.8555C30.9659 43.8555 34.8687 42.3195 37.7213 39.6863L32.1258 35.3447C30.5898 36.3792 28.6306 37.0061 26.3109 37.0061C21.8282 37.0061 18.0195 33.9811 16.6559 29.906H10.9194V34.3573C13.7563 39.9841 19.5712 43.8555 26.3109 43.8555V43.8555Z\" fill=\"#34A853\"/>\n",
       "      <path fill-rule=\"evenodd\" clip-rule=\"evenodd\" d=\"M16.6559 29.8904C16.3111 28.8559 16.1074 27.7588 16.1074 26.6146C16.1074 25.4704 16.3111 24.3733 16.6559 23.3388V18.8875H10.9194C9.74388 21.2072 9.06992 23.8247 9.06992 26.6146C9.06992 29.4045 9.74388 32.022 10.9194 34.3417L15.3864 30.8621L16.6559 29.8904V29.8904Z\" fill=\"#FBBC05\"/>\n",
       "      <path fill-rule=\"evenodd\" clip-rule=\"evenodd\" d=\"M26.3109 16.2386C28.85 16.2386 31.107 17.1164 32.9095 18.8091L37.8466 13.8719C34.853 11.082 30.9659 9.3736 26.3109 9.3736C19.5712 9.3736 13.7563 13.245 10.9194 18.8875L16.6559 23.3388C18.0195 19.2636 21.8282 16.2386 26.3109 16.2386V16.2386Z\" fill=\"#EA4335\"/>\n",
       "    </svg>\n",
       "    <svg class=\"logo-dark\" width=\"18\" height=\"18\" viewBox=\"0 0 48 48\" xmlns=\"http://www.w3.org/2000/svg\">\n",
       "      <circle cx=\"24\" cy=\"23\" fill=\"#FFF\" r=\"22\"/>\n",
       "      <path d=\"M33.76 34.26c2.75-2.56 4.49-6.37 4.49-11.26 0-.89-.08-1.84-.29-3H24.01v5.99h8.03c-.4 2.02-1.5 3.56-3.07 4.56v.75l3.91 2.97h.88z\" fill=\"#4285F4\"/>\n",
       "      <path d=\"M15.58 25.77A8.845 8.845 0 0 0 24 31.86c1.92 0 3.62-.46 4.97-1.31l4.79 3.71C31.14 36.7 27.65 38 24 38c-5.93 0-11.01-3.4-13.45-8.36l.17-1.01 4.06-2.85h.8z\" fill=\"#34A853\"/>\n",
       "      <path d=\"M15.59 20.21a8.864 8.864 0 0 0 0 5.58l-5.03 3.86c-.98-2-1.53-4.25-1.53-6.64 0-2.39.55-4.64 1.53-6.64l1-.22 3.81 2.98.22 1.08z\" fill=\"#FBBC05\"/>\n",
       "      <path d=\"M24 14.14c2.11 0 4.02.75 5.52 1.98l4.36-4.36C31.22 9.43 27.81 8 24 8c-5.93 0-11.01 3.4-13.45 8.36l5.03 3.85A8.86 8.86 0 0 1 24 14.14z\" fill=\"#EA4335\"/>\n",
       "    </svg>\n",
       "    <div class=\"gradient-container\"><div class=\"gradient\"></div></div>\n",
       "  </div>\n",
       "  <div class=\"carousel\">\n",
       "    <a class=\"chip\" href=\"https://vertexaisearch.cloud.google.com/grounding-api-redirect/AWQVqAKS-aGNkBwAM4QarhFQoO82JyRHHgVsOfN7rhHa5g8ko-AiUZYvFnFrwfa5Q7O7z-Gz8Ck0aO2K3qHUge6qf_cB6WbjKjjFuO4W0NwgCLRBZajjURpZLCnUSJJOvy7k4HubAygvA76DfynKFExp7Js8E-zokLWkG_yqy6PCMBZrKZX8kB7GPJ-dXFsFKcEmVrqvT3C6UAK9PG_glXg6JbRNbg==\">Billie Eilish next concert location</a>\n",
       "    <a class=\"chip\" href=\"https://vertexaisearch.cloud.google.com/grounding-api-redirect/AWQVqAJSC2nYzi0LbvQxd3R9f1FGfl8mmICG_tFRKEUPL0C_3L2sXB5hdzRV95XFIdrYMx21rq03U7x-IRNHVAyJ2dy4pkq67PBjQjG3KA1_rAkW9YlNil9sUgmij15i2WRkOOJ0N6Um1ihJIP038tWDq7Qsi5L3KDuElSFCtnVZ60uHRbE0mRgcg2FU1dIMLZcs1_V4kSuiwqwvHIEMTdB6\">Billie Eilish next concert date</a>\n",
       "    <a class=\"chip\" href=\"https://vertexaisearch.cloud.google.com/grounding-api-redirect/AWQVqAIDACcKd9Fexybygkw6GySa0zac97VrTIAYLfVzquW6wH_vWGcmi_8pIqwAAkMeFYQdXJ0I9QQ4gvfmNKgiy5i4A4r--5TPS69NnXqmZUOgjOALwCjKamLOfIVEbjcHHuHVGFgayvH59iQ4RmHzdYr0XmMqPn2f8Lnwoc9SneO6Pzr0dgidStzkNYwwe18Lv2dD3xT6DbY=\">Billie Eilish tour dates</a>\n",
       "  </div>\n",
       "</div>\n"
      ],
      "text/plain": [
       "<IPython.core.display.HTML object>"
      ]
     },
     "execution_count": 24,
     "metadata": {},
     "output_type": "execute_result"
    }
   ],
   "source": [
    "HTML(response.candidates[0].grounding_metadata.search_entry_point.rendered_content)"
   ]
  },
  {
   "cell_type": "code",
   "execution_count": 25,
   "id": "4f71fa40",
   "metadata": {},
   "outputs": [],
   "source": [
    "from pprint import pprint\n",
    "\n",
    "supports = response.candidates[0].grounding_metadata.grounding_supports\n"
   ]
  },
  {
   "cell_type": "code",
   "execution_count": 26,
   "id": "7a04acf8",
   "metadata": {},
   "outputs": [
    {
     "name": "stdout",
     "output_type": "stream",
     "text": [
      "{'confidence_scores': [0.6128539],\n",
      " 'grounding_chunk_indices': [0],\n",
      " 'segment': {'end_index': 222,\n",
      "             'start_index': 98,\n",
      "             'text': 'According to the search results, her next concert is '\n",
      "                     'scheduled for April 23, 2025, at the Avicii Arena in '\n",
      "                     'Stockholm, Sweden.'}}\n",
      "{'confidence_scores': [0.6173069],\n",
      " 'grounding_chunk_indices': [1],\n",
      " 'segment': {'end_index': 473,\n",
      "             'start_index': 285,\n",
      "             'text': 'Following the dates in Stockholm, she will be playing in '\n",
      "                     'various locations across Europe and the UK in April, '\n",
      "                     'May, June, and July of 2025, and then in Australia in '\n",
      "                     'February and March 2025.'}}\n",
      "{'confidence_scores': [0.67730105, 0.7174366],\n",
      " 'grounding_chunk_indices': [1, 0],\n",
      " 'segment': {'end_index': 531,\n",
      "             'start_index': 474,\n",
      "             'text': 'There are also North American dates listed for late '\n",
      "                     '2024.'}}\n"
     ]
    }
   ],
   "source": [
    "for support in supports:\n",
    "    pprint(support.to_json_dict())"
   ]
  },
  {
   "cell_type": "code",
   "execution_count": 27,
   "id": "d76fb9bc",
   "metadata": {},
   "outputs": [],
   "source": [
    "import io\n",
    "\n",
    "markdown_buffer = io.StringIO()\n",
    "\n",
    "markdown_buffer.write(\"Supported text:\\n\\n\")\n",
    "for support in supports:\n",
    "    markdown_buffer.write(\" * \")\n",
    "    markdown_buffer.write(\n",
    "        response.candidates[0].content.parts[0].text[support.segment.start_index : support.segment.end_index]\n",
    "    )\n",
    "\n",
    "    for i in support.grounding_chunk_indices:\n",
    "        chunk = chunks[i].web\n",
    "        markdown_buffer.write(f\"<sup>[{i+1}]</sup>\")\n",
    "\n",
    "    markdown_buffer.write(\"\\n\\n\")\n",
    "\n",
    "markdown_buffer.write(\"Citations:\\n\\n\")\n",
    "for i, chunk in enumerate(chunks, start=1):\n",
    "    markdown_buffer.write(f\"{i}. [{chunk.web.title}]({chunk.web.uri})\\n\")\n"
   ]
  },
  {
   "cell_type": "code",
   "execution_count": 28,
   "id": "498b8c7f",
   "metadata": {},
   "outputs": [
    {
     "data": {
      "text/markdown": [
       "Supported text:\n",
       "\n",
       " * According to the search results, her next concert is scheduled for April 23, 2025, at the Avicii Arena in Stockholm, Sweden.<sup>[1]</sup>\n",
       "\n",
       " * Following the dates in Stockholm, she will be playing in various locations across Europe and the UK in April, May, June, and July of 2025, and then in Australia in February and March 2025.<sup>[2]</sup>\n",
       "\n",
       " * There are also North American dates listed for late 2024.<sup>[2]</sup><sup>[1]</sup>\n",
       "\n",
       "Citations:\n",
       "\n",
       "1. [ticketmaster.com](https://vertexaisearch.cloud.google.com/grounding-api-redirect/AWQVqAIqwi0F7kL78K1QZKKCR12hC10MPR2Q_TSF32mjTEWMzEYMaBW8i1p3b_5O0pHNK5-DYVz9BzGj3kYlgy29J5HU-pJBS-F_U5mniiUvrBuSCx0cEbd3XVbny2AEu-m8Ui0kDTW0yBbloRf0NNh2Ivb0BYzNMlWrnw==)\n",
       "2. [ticketmaster.co.uk](https://vertexaisearch.cloud.google.com/grounding-api-redirect/AWQVqAKoR3Afa9W1-1A19pZFPpCQOuLTKgjIyUZIowoDavfh_cOmAV92Of7G1yXVtB5zQpXXuEwg0wh0Nov3h3Id1eSFtNsr0S9ZrAfPHdL7DNpW0ILwnHirLzQKUNN-rRSiW5PYHLhHxXzalQbodeBxcAGvAyXU5Q1Gw_yw)\n"
      ],
      "text/plain": [
       "<IPython.core.display.Markdown object>"
      ]
     },
     "execution_count": 28,
     "metadata": {},
     "output_type": "execute_result"
    }
   ],
   "source": [
    "Markdown(markdown_buffer.getvalue())"
   ]
  },
  {
   "cell_type": "markdown",
   "id": "2ab3739f",
   "metadata": {},
   "source": [
    "## Search with tools"
   ]
  },
  {
   "cell_type": "code",
   "execution_count": 29,
   "id": "6a17b924",
   "metadata": {},
   "outputs": [],
   "source": [
    "from IPython.display import display, Image, Markdown, Code, HTML\n",
    "\n",
    "# def show_response(response):\n",
    "#     for p in response.candidates[0].content.parts:\n",
    "#         if p.text:\n",
    "#             display(Markdown(p.text))\n",
    "#         elif p.inline_data:\n",
    "#             display(Image(p.inline_data.data))\n",
    "#         elif p.executable_code:\n",
    "#             display(Markdown(f\"```\\n{p.executable_code.code}\\n```\"))\n",
    "#         else:\n",
    "#             print(p.to_json_dict())\n",
    "        \n",
    "    \n",
    "#         display(Markdown('----'))\n",
    "\n",
    "def show_response(response):\n",
    "  for part in response.candidates[0].content.parts:\n",
    "    if part.text is not None:\n",
    "      display(Markdown(part.text))\n",
    "    if part.executable_code is not None:\n",
    "      code_html = f'<pre style=\"background-color: green;\">{part.executable_code.code}</pre>' # Change code color\n",
    "      display(HTML(code_html))\n",
    "    if part.code_execution_result is not None:\n",
    "      display(Markdown(part.code_execution_result.output))\n",
    "    if part.inline_data is not None:\n",
    "      display(Image(data=part.inline_data.data, width=800, format=\"png\"))\n",
    "    display(Markdown(\"---\"))"
   ]
  },
  {
   "cell_type": "code",
   "execution_count": 36,
   "id": "a48d57c1",
   "metadata": {},
   "outputs": [
    {
     "data": {
      "text/markdown": [
       "The 2024 Summer Olympics in Paris have concluded as of August 11, 2024. Here are the top 10 countries based on their total medal count:\n",
       "\n",
       "| Country        | Gold | Silver | Bronze | Total |\n",
       "|----------------|------|--------|--------|-------|\n",
       "| USA            | 40   | 44     | 42     | 126   |\n",
       "| China          | 40   | 27     | 24     | 91    |\n",
       "| Great Britain  | 14   | 22     | 29     | 65    |\n",
       "| France         | 16   | 25     | 23     | 64    |\n",
       "| Australia      | 18   | 19     | 16     | 53    |\n",
       "| Italy          | 12   | 15     | 13     | 40    |\n",
       "| Germany        | 12   | 13     | 8      | 33    |\n",
       "| Netherlands    | 15   | 7      | 12     | 34    |\n",
       "| Japan          | 20   | 12     | 13     | 45    |\n",
       "| South Korea    | 13   | 9      | 10     | 32    |\n",
       "\n",
       "Please note that some sources may order the table by gold medals first, which would change the ranking order for some countries with the same total number of medals. The table above is ordered by the total number of medals."
      ],
      "text/plain": [
       "<IPython.core.display.Markdown object>"
      ]
     },
     "metadata": {},
     "output_type": "display_data"
    },
    {
     "data": {
      "text/markdown": [
       "---"
      ],
      "text/plain": [
       "<IPython.core.display.Markdown object>"
      ]
     },
     "metadata": {},
     "output_type": "display_data"
    }
   ],
   "source": [
    "config_with_search = types.GenerateContentConfig(\n",
    "    # tools=[types.Tool(google_search=types.GoogleSearch())],\n",
    "    tools=[\n",
    "        {'google_search': {}}\n",
    "    ],\n",
    "    temperature=0.0,\n",
    ")\n",
    "\n",
    "chat = client.chats.create(model=MODEL_ID)\n",
    "\n",
    "response = chat.send_message(\n",
    "    message=\"What were the medal tallies, by top-10 countries, for the 2024 olympics?\",\n",
    "    config=config_with_search,\n",
    ")\n",
    "\n",
    "show_response(response)"
   ]
  },
  {
   "cell_type": "code",
   "execution_count": 37,
   "id": "c5dd656d",
   "metadata": {},
   "outputs": [
    {
     "data": {
      "text/markdown": [
       "Okay, I can plot the medal tallies for the top 10 countries from the 2024 Paris Olympics, broken down by medal type (Gold, Silver, Bronze), using seaborn and matplotlib.\n",
       "\n",
       "First, I will prepare the data in a format suitable for plotting. Then, I will generate the stacked bar chart, save it as an image file, and display the image.\n",
       "\n"
      ],
      "text/plain": [
       "<IPython.core.display.Markdown object>"
      ]
     },
     "metadata": {},
     "output_type": "display_data"
    },
    {
     "data": {
      "text/markdown": [
       "---"
      ],
      "text/plain": [
       "<IPython.core.display.Markdown object>"
      ]
     },
     "metadata": {},
     "output_type": "display_data"
    },
    {
     "data": {
      "text/html": [
       "<pre style=\"background-color: green;\">import pandas as pd\n",
       "import seaborn as sns\n",
       "import matplotlib.pyplot as plt\n",
       "import io\n",
       "import base64\n",
       "from IPython.display import display, Image\n",
       "\n",
       "# Data for the top 10 countries by total medals from the previous response\n",
       "data = {\n",
       "    'Country': ['USA', 'China', 'Great Britain', 'France', 'Australia', 'Italy', 'Germany', 'Netherlands', 'Japan', 'South Korea'],\n",
       "    'Gold': [40, 40, 14, 16, 18, 12, 12, 15, 20, 13],\n",
       "    'Silver': [44, 27, 22, 25, 19, 15, 13, 7, 12, 9],\n",
       "    'Bronze': [42, 24, 29, 23, 16, 13, 8, 12, 13, 10]\n",
       "}\n",
       "\n",
       "df = pd.DataFrame(data)\n",
       "\n",
       "# Melt the DataFrame to long format for plotting stacked bars\n",
       "df_melted = df.melt(id_vars='Country', var_name='Medal Type', value_name='Count', value_vars=['Gold', 'Silver', 'Bronze'])\n",
       "\n",
       "# Define the order of medal types for consistent stacking\n",
       "medal_order = ['Gold', 'Silver', 'Bronze']\n",
       "df_melted['Medal Type'] = pd.Categorical(df_melted['Medal Type'], categories=medal_order, ordered=True)\n",
       "\n",
       "# Sort countries by total medals for better visualization (optional, but often helpful)\n",
       "# Calculate total medals first\n",
       "df['Total'] = df['Gold'] + df['Silver'] + df['Bronze']\n",
       "country_order = df.sort_values('Total', ascending=False)['Country'].tolist()\n",
       "\n",
       "# Plotting\n",
       "plt.figure(figsize=(12, 7))\n",
       "sns.barplot(data=df_melted, x='Country', y='Count', hue='Medal Type', order=country_order, palette={'Gold': 'gold', 'Silver': 'silver', 'Bronze': '#cd7f32'}) # Using hex code for bronze\n",
       "\n",
       "plt.title('2024 Paris Olympics Medal Tally - Top 10 Countries by Total Medals')\n",
       "plt.xlabel('Country')\n",
       "plt.ylabel('Number of Medals')\n",
       "plt.xticks(rotation=45, ha='right')\n",
       "plt.legend(title='Medal Type')\n",
       "plt.tight_layout() # Adjust layout to prevent labels overlapping\n",
       "\n",
       "# Save the plot to a BytesIO object\n",
       "buf = io.BytesIO()\n",
       "plt.savefig(buf, format='png')\n",
       "buf.seek(0)\n",
       "\n",
       "# Display the image\n",
       "img_base64 = base64.b64encode(buf.read()).decode('utf-8')\n",
       "display(Image(data=base64.b64decode(img_base64)))\n",
       "\n",
       "plt.close() # Close the plot figure\n",
       "</pre>"
      ],
      "text/plain": [
       "<IPython.core.display.HTML object>"
      ]
     },
     "metadata": {},
     "output_type": "display_data"
    },
    {
     "data": {
      "text/markdown": [
       "---"
      ],
      "text/plain": [
       "<IPython.core.display.Markdown object>"
      ]
     },
     "metadata": {},
     "output_type": "display_data"
    },
    {
     "data": {
      "text/markdown": [
       "No module named 'IPython'\n",
       "Traceback (most recent call last):\n",
       "  File \"/usr/bin/entry/entry_point\", line 117, in _run_python\n",
       "    exec(code, exec_scope)  # pylint: disable=exec-used\n",
       "    ^^^^^^^^^^^^^^^^^^^^^^\n",
       "  File \"<string>\", line 6, in <module>\n",
       "ModuleNotFoundError: No module named 'IPython'\n"
      ],
      "text/plain": [
       "<IPython.core.display.Markdown object>"
      ]
     },
     "metadata": {},
     "output_type": "display_data"
    },
    {
     "data": {
      "text/markdown": [
       "---"
      ],
      "text/plain": [
       "<IPython.core.display.Markdown object>"
      ]
     },
     "metadata": {},
     "output_type": "display_data"
    },
    {
     "data": {
      "text/markdown": [
       "Okay, it seems I cannot directly display the image using the available tools. However, I can save the plot to a file.\n",
       "\n",
       "I will generate the plot and save it as `olympics_2024_medals.png`.\n",
       "\n"
      ],
      "text/plain": [
       "<IPython.core.display.Markdown object>"
      ]
     },
     "metadata": {},
     "output_type": "display_data"
    },
    {
     "data": {
      "text/markdown": [
       "---"
      ],
      "text/plain": [
       "<IPython.core.display.Markdown object>"
      ]
     },
     "metadata": {},
     "output_type": "display_data"
    },
    {
     "data": {
      "text/html": [
       "<pre style=\"background-color: green;\">import pandas as pd\n",
       "import seaborn as sns\n",
       "import matplotlib.pyplot as plt\n",
       "\n",
       "# Data for the top 10 countries by total medals from the previous response\n",
       "data = {\n",
       "    'Country': ['USA', 'China', 'Great Britain', 'France', 'Australia', 'Italy', 'Germany', 'Netherlands', 'Japan', 'South Korea'],\n",
       "    'Gold': [40, 40, 14, 16, 18, 12, 12, 15, 20, 13],\n",
       "    'Silver': [44, 27, 22, 25, 19, 15, 13, 7, 12, 9],\n",
       "    'Bronze': [42, 24, 29, 23, 16, 13, 8, 12, 13, 10]\n",
       "}\n",
       "\n",
       "df = pd.DataFrame(data)\n",
       "\n",
       "# Melt the DataFrame to long format for plotting stacked bars\n",
       "df_melted = df.melt(id_vars='Country', var_name='Medal Type', value_name='Count', value_vars=['Gold', 'Silver', 'Bronze'])\n",
       "\n",
       "# Define the order of medal types for consistent stacking\n",
       "medal_order = ['Gold', 'Silver', 'Bronze']\n",
       "df_melted['Medal Type'] = pd.Categorical(df_melted['Medal Type'], categories=medal_order, ordered=True)\n",
       "\n",
       "# Sort countries by total medals for better visualization\n",
       "df['Total'] = df['Gold'] + df['Silver'] + df['Bronze']\n",
       "country_order = df.sort_values('Total', ascending=False)['Country'].tolist()\n",
       "\n",
       "# Plotting\n",
       "plt.figure(figsize=(12, 7))\n",
       "sns.barplot(data=df_melted, x='Country', y='Count', hue='Medal Type', order=country_order, palette={'Gold': 'gold', 'Silver': 'silver', 'Bronze': '#cd7f32'}) # Using hex code for bronze\n",
       "\n",
       "plt.title('2024 Paris Olympics Medal Tally - Top 10 Countries by Total Medals')\n",
       "plt.xlabel('Country')\n",
       "plt.ylabel('Number of Medals')\n",
       "plt.xticks(rotation=45, ha='right')\n",
       "plt.legend(title='Medal Type')\n",
       "plt.tight_layout() # Adjust layout to prevent labels overlapping\n",
       "\n",
       "# Save the plot to a file\n",
       "file_path = 'olympics_2024_medals.png'\n",
       "plt.savefig(file_path)\n",
       "\n",
       "plt.close() # Close the plot figure\n",
       "\n",
       "print(f\"Plot saved successfully as {file_path}\")\n",
       "</pre>"
      ],
      "text/plain": [
       "<IPython.core.display.HTML object>"
      ]
     },
     "metadata": {},
     "output_type": "display_data"
    },
    {
     "data": {
      "text/markdown": [
       "---"
      ],
      "text/plain": [
       "<IPython.core.display.Markdown object>"
      ]
     },
     "metadata": {},
     "output_type": "display_data"
    },
    {
     "data": {
      "text/markdown": [
       "Plot saved successfully as olympics_2024_medals.png\n"
      ],
      "text/plain": [
       "<IPython.core.display.Markdown object>"
      ]
     },
     "metadata": {},
     "output_type": "display_data"
    },
    {
     "data": {
      "text/markdown": [
       "---"
      ],
      "text/plain": [
       "<IPython.core.display.Markdown object>"
      ]
     },
     "metadata": {},
     "output_type": "display_data"
    },
    {
     "data": {
      "image/png": "[encoded data removed]",
      "text/plain": [
       "<IPython.core.display.Image object>"
      ]
     },
     "metadata": {
      "image/png": {
       "width": 800
      }
     },
     "output_type": "display_data"
    },
    {
     "data": {
      "text/markdown": [
       "---"
      ],
      "text/plain": [
       "<IPython.core.display.Markdown object>"
      ]
     },
     "metadata": {},
     "output_type": "display_data"
    },
    {
     "data": {
      "text/markdown": [
       "I have generated the stacked bar chart showing the breakdown of Gold, Silver, and Bronze medals for the top 10 countries by total medal count at the 2024 Paris Olympics.\n",
       "\n",
       "The plot has been saved as `olympics_2024_medals.png`. You should be able to view this file."
      ],
      "text/plain": [
       "<IPython.core.display.Markdown object>"
      ]
     },
     "metadata": {},
     "output_type": "display_data"
    },
    {
     "data": {
      "text/markdown": [
       "---"
      ],
      "text/plain": [
       "<IPython.core.display.Markdown object>"
      ]
     },
     "metadata": {},
     "output_type": "display_data"
    }
   ],
   "source": [
    "config_with_code = types.GenerateContentConfig(\n",
    "    # tools=[types.Tool(code_execution=types.ToolCodeExecution())],\n",
    "    tools = [{'code_execution': {}}],\n",
    "    temperature=0.0,\n",
    ")\n",
    "\n",
    "response = chat.send_message(\n",
    "    message=\"Now plot this as a seaborn chart. Break out the medals too. Then save the plot as an image file and display the image.\",\n",
    "    config=config_with_code,\n",
    ")\n",
    "\n",
    "show_response(response)"
   ]
  },
  {
   "cell_type": "code",
   "execution_count": null,
   "id": "fbb5f056",
   "metadata": {},
   "outputs": [],
   "source": []
  }
 ],
 "metadata": {
  "kernelspec": {
   "display_name": ".venv",
   "language": "python",
   "name": "python3"
  },
  "language_info": {
   "codemirror_mode": {
    "name": "ipython",
    "version": 3
   },
   "file_extension": ".py",
   "mimetype": "text/x-python",
   "name": "python",
   "nbconvert_exporter": "python",
   "pygments_lexer": "ipython3",
   "version": "3.12.0"
  }
 },
 "nbformat": 4,
 "nbformat_minor": 5
}
