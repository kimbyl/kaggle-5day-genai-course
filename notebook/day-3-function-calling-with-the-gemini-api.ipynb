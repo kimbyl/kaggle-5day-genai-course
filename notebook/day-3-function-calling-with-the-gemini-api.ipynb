{
 "cells": [
  {
   "cell_type": "markdown",
   "id": "93c6f2c6",
   "metadata": {},
   "source": [
    "##### Copyright 2025 Google LLC."
   ]
  },
  {
   "cell_type": "code",
   "execution_count": null,
   "id": "f4abfee1",
   "metadata": {},
   "outputs": [],
   "source": [
    "# @title Licensed under the Apache License, Version 2.0 (the \"License\");\n",
    "# you may not use this file except in compliance with the License.\n",
    "# You may obtain a copy of the License at\n",
    "#\n",
    "# https://www.apache.org/licenses/LICENSE-2.0\n",
    "#\n",
    "# Unless required by applicable law or agreed to in writing, software\n",
    "# distributed under the License is distributed on an \"AS IS\" BASIS,\n",
    "# WITHOUT WARRANTIES OR CONDITIONS OF ANY KIND, either express or implied.\n",
    "# See the License for the specific language governing permissions and\n",
    "# limitations under the License."
   ]
  },
  {
   "cell_type": "code",
   "execution_count": 6,
   "id": "21a3aafe",
   "metadata": {},
   "outputs": [
    {
     "name": "stdout",
     "output_type": "stream",
     "text": [
      "Note: you may need to restart the kernel to use updated packages.\n",
      "\n",
      "\u001b[1m[\u001b[0m\u001b[34;49mnotice\u001b[0m\u001b[1;39;49m]\u001b[0m\u001b[39;49m A new release of pip is available: \u001b[0m\u001b[31;49m23.2.1\u001b[0m\u001b[39;49m -> \u001b[0m\u001b[32;49m25.0.1\u001b[0m\n",
      "\u001b[1m[\u001b[0m\u001b[34;49mnotice\u001b[0m\u001b[1;39;49m]\u001b[0m\u001b[39;49m To update, run: \u001b[0m\u001b[32;49mpip install --upgrade pip\u001b[0m\n",
      "Note: you may need to restart the kernel to use updated packages.\n",
      "\n",
      "\u001b[1m[\u001b[0m\u001b[34;49mnotice\u001b[0m\u001b[1;39;49m]\u001b[0m\u001b[39;49m A new release of pip is available: \u001b[0m\u001b[31;49m23.2.1\u001b[0m\u001b[39;49m -> \u001b[0m\u001b[32;49m25.0.1\u001b[0m\n",
      "\u001b[1m[\u001b[0m\u001b[34;49mnotice\u001b[0m\u001b[1;39;49m]\u001b[0m\u001b[39;49m To update, run: \u001b[0m\u001b[32;49mpip install --upgrade pip\u001b[0m\n",
      "Note: you may need to restart the kernel to use updated packages.\n"
     ]
    }
   ],
   "source": [
    "%pip uninstall -qqy jupyterlab\n",
    "%pip install -U -q \"google-genai==1.7.0\"\n",
    "%pip install -U -q ipython-sql"
   ]
  },
  {
   "cell_type": "code",
   "execution_count": 1,
   "id": "cb8a7bb8",
   "metadata": {},
   "outputs": [
    {
     "data": {
      "text/plain": [
       "'1.7.0'"
      ]
     },
     "execution_count": 1,
     "metadata": {},
     "output_type": "execute_result"
    }
   ],
   "source": [
    "from google import genai\n",
    "from google.genai import types\n",
    "\n",
    "genai.__version__"
   ]
  },
  {
   "cell_type": "code",
   "execution_count": 2,
   "id": "54197583",
   "metadata": {},
   "outputs": [],
   "source": [
    "import os\n",
    "\n",
    "GOOGLE_API_KEY = os.getenv(\"GOOGLE_API_KEY\")"
   ]
  },
  {
   "cell_type": "code",
   "execution_count": 3,
   "id": "d3204ac0",
   "metadata": {},
   "outputs": [],
   "source": [
    "from google.api_core import retry\n",
    "\n",
    "is_retriable = lambda e: (isinstance(e, genai.errors.APIError) and e.code in {429, 503})\n",
    "\n",
    "if not hasattr(genai.models.Models.generate_content, '__wrapped__'):\n",
    "    genai.models.Models.generate_content = retry.Retry(predicate=is_retriable)(genai.models.Models.generate_content)"
   ]
  },
  {
   "cell_type": "code",
   "execution_count": 4,
   "id": "75862cc6",
   "metadata": {},
   "outputs": [],
   "source": [
    "%load_ext sql\n",
    "%sql sqlite:///sample.db"
   ]
  },
  {
   "cell_type": "code",
   "execution_count": 5,
   "id": "720ff297",
   "metadata": {},
   "outputs": [
    {
     "name": "stdout",
     "output_type": "stream",
     "text": [
      " * sqlite:///sample.db\n",
      "Done.\n",
      "Done.\n",
      "Done.\n",
      "Done.\n",
      "Done.\n",
      "Done.\n",
      "3 rows affected.\n",
      "3 rows affected.\n",
      "3 rows affected.\n"
     ]
    },
    {
     "data": {
      "text/plain": [
       "[]"
      ]
     },
     "execution_count": 5,
     "metadata": {},
     "output_type": "execute_result"
    }
   ],
   "source": [
    "%%sql\n",
    "DROP TABLE IF EXISTS products;\n",
    "-- Create the 'products' table\n",
    "CREATE TABLE IF NOT EXISTS products (\n",
    "  \tproduct_id INTEGER PRIMARY KEY AUTOINCREMENT,\n",
    "  \tproduct_name VARCHAR(255) NOT NULL,\n",
    "  \tprice DECIMAL(10, 2) NOT NULL\n",
    "  );\n",
    "\n",
    "DROP TABLE IF EXISTS staff;\n",
    "-- Create the 'staff' table\n",
    "CREATE TABLE IF NOT EXISTS staff (\n",
    "  \tstaff_id INTEGER PRIMARY KEY AUTOINCREMENT,\n",
    "  \tfirst_name VARCHAR(255) NOT NULL,\n",
    "  \tlast_name VARCHAR(255) NOT NULL\n",
    "  );\n",
    "\n",
    "DROP TABLE IF EXISTS orders;\n",
    "-- Create the 'orders' table\n",
    "CREATE TABLE IF NOT EXISTS orders (\n",
    "  \torder_id INTEGER PRIMARY KEY AUTOINCREMENT,\n",
    "  \tcustomer_name VARCHAR(255) NOT NULL,\n",
    "  \tstaff_id INTEGER NOT NULL,\n",
    "  \tproduct_id INTEGER NOT NULL,\n",
    "  \tFOREIGN KEY (staff_id) REFERENCES staff (staff_id),\n",
    "  \tFOREIGN KEY (product_id) REFERENCES products (product_id)\n",
    "  );\n",
    "\n",
    "-- Insert data into the 'products' table\n",
    "INSERT INTO products (product_name, price) VALUES\n",
    "  \t('Laptop', 799.99),\n",
    "  \t('Keyboard', 129.99),\n",
    "  \t('Mouse', 29.99);\n",
    "\n",
    "-- Insert data into the 'staff' table\n",
    "INSERT INTO staff (first_name, last_name) VALUES\n",
    "  \t('Alice', 'Smith'),\n",
    "  \t('Bob', 'Johnson'),\n",
    "  \t('Charlie', 'Williams');\n",
    "\n",
    "-- Insert data into the 'orders' table\n",
    "INSERT INTO orders (customer_name, staff_id, product_id) VALUES\n",
    "  \t('David Lee', 1, 1),\n",
    "  \t('Emily Chen', 2, 2),\n",
    "  \t('Frank Brown', 1, 3);"
   ]
  },
  {
   "cell_type": "code",
   "execution_count": 6,
   "id": "13d393bd",
   "metadata": {},
   "outputs": [],
   "source": [
    "import sqlite3\n",
    "\n",
    "db_file = \"sample.db\"\n",
    "db_conn = sqlite3.connect(db_file)"
   ]
  },
  {
   "cell_type": "code",
   "execution_count": 7,
   "id": "84362002",
   "metadata": {},
   "outputs": [
    {
     "name": "stdout",
     "output_type": "stream",
     "text": [
      " - DB CALL: list_tables()\n"
     ]
    },
    {
     "data": {
      "text/plain": [
       "['sqlite_sequence', 'products', 'staff', 'orders']"
      ]
     },
     "execution_count": 7,
     "metadata": {},
     "output_type": "execute_result"
    }
   ],
   "source": [
    "def list_tables() -> list[str]:\n",
    "    \"\"\"Retrieve the names of all talbes in the database.\"\"\"\n",
    "    print(' - DB CALL: list_tables()')\n",
    "\n",
    "    cursor = db_conn.cursor()\n",
    "\n",
    "    cursor.execute(\"SELECT name FROM sqlite_master WHERE type='table';\")\n",
    "\n",
    "    tables = cursor.fetchall()\n",
    "    return [t[0] for t in tables]\n",
    "\n",
    "list_tables()"
   ]
  },
  {
   "cell_type": "code",
   "execution_count": 8,
   "id": "13584d68",
   "metadata": {},
   "outputs": [
    {
     "name": "stdout",
     "output_type": "stream",
     "text": [
      " - DB CALL: describe_table(products)\n"
     ]
    },
    {
     "data": {
      "text/plain": [
       "[('product_id', 'INTEGER'),\n",
       " ('product_name', 'VARCHAR(255)'),\n",
       " ('price', 'DECIMAL(10, 2)')]"
      ]
     },
     "execution_count": 8,
     "metadata": {},
     "output_type": "execute_result"
    }
   ],
   "source": [
    "def describe_table(table_name: str) -> list[tuple[str, str]]:\n",
    "    \"\"\"Look up the table schema.\n",
    "    \n",
    "    Returns:\n",
    "      List of columns, where each entry is a tuple of (column, type).\n",
    "    \"\"\"\n",
    "    print(f' - DB CALL: describe_table({table_name})')\n",
    "\n",
    "    cursor = db_conn.cursor()\n",
    "\n",
    "    cursor.execute(f\"PRAGMA table_info({table_name});\")\n",
    "\n",
    "    schema = cursor.fetchall()\n",
    "\n",
    "    return [(col[1], col[2]) for col in schema]\n",
    "\n",
    "describe_table(\"products\")\n"
   ]
  },
  {
   "cell_type": "code",
   "execution_count": 9,
   "id": "2d5c242e",
   "metadata": {},
   "outputs": [
    {
     "name": "stdout",
     "output_type": "stream",
     "text": [
      " - DB CALL: execute_query(select * from products)\n"
     ]
    },
    {
     "data": {
      "text/plain": [
       "[(1, 'Laptop', 799.99), (2, 'Keyboard', 129.99), (3, 'Mouse', 29.99)]"
      ]
     },
     "execution_count": 9,
     "metadata": {},
     "output_type": "execute_result"
    }
   ],
   "source": [
    "def execute_query(sql: str) -> list[list[str]]:\n",
    "    \"\"\"Execute an SQL statement, returning the results.\"\"\"\n",
    "    print(f' - DB CALL: execute_query({sql})')\n",
    "    \n",
    "    cursor = db_conn.cursor()\n",
    "    \n",
    "    cursor.execute(sql)\n",
    "    return cursor.fetchall()\n",
    "\n",
    "execute_query(\"select * from products\")"
   ]
  },
  {
   "cell_type": "markdown",
   "id": "cd8b1056",
   "metadata": {},
   "source": [
    "## Function calls 구현\n",
    "이제 Gemini API 호출 하나로 모든 것을 통합할 수 있습니다.\n",
    "\n",
    "함수 호출은 채팅 세션에 특정 메시지를 추가하는 방식으로 작동합니다. 함수 스키마가 정의되어 모델에 제공되고 대화가 시작되면 모델은 텍스트 응답 대신 `function_call`을 반환할 수 있습니다. 이 경우 클라이언트는 호출 결과를 나타내는 `function_response`로 응답해야 하며, 대화는 정상적으로 계속 진행될 수 있습니다.\n",
    "\n",
    "이 함수 호출 상호작용은 일반적으로 수동으로 이루어지므로 클라이언트는 호출의 유효성을 검사하고 시작할 수 있습니다. 하지만 Python SDK는 제공된 함수가 자동으로 호출되는 **자동 함수 호출**도 지원합니다. 이는 강력한 기능이지만, 함수에 부작용이 없는 경우처럼 주의해서 사용해야 합니다.\n",
    "\n",
    "다음은 함수 호출을 사용한 대화 흐름을 나타내는 상태 다이어그램입니다. 자동 함수 호출을 사용하면 Python SDK가 맨 아래 행을 자동으로 실행합니다. 수동 함수 호출을 사용하면 각 단계를 개별적으로 실행하는 코드를 작성해야 합니다.\n",
    "\n",
    "![function calling state diagram](https://codelabs.developers.google.com/static/codelabs/gemini-function-calling/img/gemini-function-calling-overview_1440.png)"
   ]
  },
  {
   "cell_type": "code",
   "execution_count": 100,
   "id": "234db66b",
   "metadata": {},
   "outputs": [],
   "source": [
    "db_tools = [list_tables, describe_table, execute_query]\n",
    "\n",
    "instruction = \"\"\"당신은 컴퓨터 매장의 SQL 데이터베이스와 상호 작용할 수 있는 유용한 챗봇입니다.\n",
    "사용자의 질문을 받아 사용 가능한 도구를 사용하여 SQL 쿼리로 변환합니다.\n",
    "필요한 정보를 확보하면 반환된 데이터를 사용하여 사용자의 질문에 답변합니다.\n",
    "\n",
    "list_tables 를 사용하여 현재 데이터베이스에 있는 테이블을 확인하고, describe_table 을 사용하여 테이블 스키마를 파악하고, execute_query 를 사용하여 SQL SELECT 쿼리를 실행합니다.\"\"\"\n",
    "\n",
    "# instruction = \"\"\"You are a helpful chatbot that can interact with an SQL database\n",
    "# for a computer store. You will take the users questions and turn them into SQL\n",
    "# queries using the tools available. Once you have the information you need, you will\n",
    "# answer the user's question using the data returned.\n",
    "\n",
    "# Use list_tables to see what tables are present, describe_table to understand the\n",
    "# schema, and execute_query to issue an SQL SELECT query.\"\"\"\n"
   ]
  },
  {
   "cell_type": "code",
   "execution_count": 90,
   "id": "0a699086",
   "metadata": {},
   "outputs": [],
   "source": [
    "client = genai.Client(api_key=GOOGLE_API_KEY)\n",
    "\n",
    "chat = client.chats.create(\n",
    "    model=\"gemini-2.0-flash\",\n",
    "    config=types.GenerateContentConfig(\n",
    "        system_instruction=instruction,\n",
    "        tools=db_tools,\n",
    "    )\n",
    ")"
   ]
  },
  {
   "cell_type": "code",
   "execution_count": 86,
   "id": "6b25f8ef",
   "metadata": {},
   "outputs": [
    {
     "name": "stdout",
     "output_type": "stream",
     "text": [
      " - DB CALL: list_tables()\n",
      " - DB CALL: describe_table(products)\n",
      " - DB CALL: execute_query(SELECT product_name, price FROM products ORDER BY price ASC LIMIT 1)\n",
      "\n",
      "The cheapest product is the Mouse, which costs $29.99.\n"
     ]
    }
   ],
   "source": [
    "response = chat.send_message(\"What is the cheapest product?\")\n",
    "print(f\"\\n{response.text}\")"
   ]
  },
  {
   "cell_type": "code",
   "execution_count": 91,
   "id": "d6220cb1",
   "metadata": {},
   "outputs": [
    {
     "name": "stdout",
     "output_type": "stream",
     "text": [
      " - DB CALL: list_tables()\n",
      " - DB CALL: describe_table(products)\n",
      " - DB CALL: execute_query(SELECT product_name, price FROM products ORDER BY price ASC LIMIT 1)\n",
      "\n",
      "가장 저렴한 제품은 29.99달러짜리 마우스입니다.\n"
     ]
    }
   ],
   "source": [
    "response = chat.send_message(\"가장 저렴한 제품(product)은 무엇입니까?\")\n",
    "print(f\"\\n{response.text}\")"
   ]
  },
  {
   "cell_type": "code",
   "execution_count": 101,
   "id": "7366a0ea",
   "metadata": {},
   "outputs": [],
   "source": [
    "client = genai.Client(api_key=GOOGLE_API_KEY)\n",
    "\n",
    "chat = client.chats.create(\n",
    "    model=\"gemini-2.0-flash\",\n",
    "    config=types.GenerateContentConfig(\n",
    "        system_instruction=instruction,\n",
    "        tools=db_tools,        \n",
    "    )\n",
    ")"
   ]
  },
  {
   "cell_type": "code",
   "execution_count": 102,
   "id": "b9da3a79",
   "metadata": {},
   "outputs": [
    {
     "name": "stdout",
     "output_type": "stream",
     "text": [
      " - DB CALL: list_tables()\n",
      " - DB CALL: describe_table(staff)\n",
      " - DB CALL: describe_table(products)\n",
      " - DB CALL: describe_table(orders)\n",
      " - DB CALL: execute_query(SELECT staff_id FROM staff WHERE first_name = 'Alice')\n",
      " - DB CALL: execute_query(SELECT product_id FROM orders WHERE staff_id = 1)\n",
      " - DB CALL: execute_query(SELECT product_id FROM products)\n",
      " - DB CALL: execute_query(SELECT product_name FROM products WHERE product_id = 2)\n",
      "\n",
      "앨리스는 포트폴리오를 완성하기 위해 키보드 판매에 집중해야 합니다. 그녀는 컴퓨터와 마우스를 판매했지만 키보드는 판매하지 않았기 때문입니다.\n",
      "\n"
     ]
    }
   ],
   "source": [
    "response = chat.send_message(\"영업사원 앨리스(Alice)는 포트폴리오를 완성(round out her portfolio)하기 위해 어떤 제품에 집중해야 할까요? 그 이유를 설명하세요.\")\n",
    "print(f\"\\n{response.text}\")"
   ]
  },
  {
   "cell_type": "code",
   "execution_count": 81,
   "id": "49e40c56",
   "metadata": {},
   "outputs": [
    {
     "name": "stdout",
     "output_type": "stream",
     "text": [
      "\n",
      "Alice should focus on selling Keyboards. Other salespersons have sold keyboards, while Alice has only sold Laptops and Mouse.\n",
      "\n"
     ]
    }
   ],
   "source": [
    "response = chat.send_message(\"What products should salesperson Alice focus on to round out her portfolio? Explain why.\")\n",
    "print(f\"\\n{response.text}\")"
   ]
  },
  {
   "cell_type": "code",
   "execution_count": 103,
   "id": "416f7456",
   "metadata": {},
   "outputs": [],
   "source": [
    "import textwrap\n",
    "\n",
    "def print_chat_turns(chat):\n",
    "    \"\"\"Print out each turn in the chat history, including functio calls and responses.\"\"\"\n",
    "    for event in chat.get_history():\n",
    "        print(f\"{event.role.capitalize()}:\")\n",
    "\n",
    "        for part in event.parts:\n",
    "            if txt := part.text:\n",
    "                print(f'  \"{txt}')\n",
    "            elif fn := part.function_call:\n",
    "                args = \", \".join(f\"{key}={val}\" for key, val in fn.args.items())\n",
    "                print(f\"  Function call: {fn.name}({args})\")\n",
    "            elif resp := part.function_response:\n",
    "                print(\"  Function response:\")\n",
    "                print(textwrap.indent(str(resp.response['result']), \"    \"))\n",
    "        print()\n",
    "\n"
   ]
  },
  {
   "cell_type": "code",
   "execution_count": 104,
   "id": "a9128271",
   "metadata": {},
   "outputs": [
    {
     "name": "stdout",
     "output_type": "stream",
     "text": [
      "User:\n",
      "  \"영업사원 앨리스(Alice)는 포트폴리오를 완성(round out her portfolio)하기 위해 어떤 제품에 집중해야 할까요? 그 이유를 설명하세요.\n",
      "\n",
      "Model:\n",
      "  \"앨리스가 집중해야 할 제품을 알려면 먼저 앨리스가 판매한 제품을 알아야 합니다. 그리고 '영업사원'이라는 용어가 사용된 테이블과 '제품' 정보가 들어 있는 테이블을 알아야 합니다. 먼저 테이블을 나열해 보겠습니다.\n",
      "\n",
      "  Function call: list_tables()\n",
      "\n",
      "User:\n",
      "  Function response:\n",
      "    ['sqlite_sequence', 'products', 'staff', 'orders']\n",
      "\n",
      "Model:\n",
      "  \"'staff', 'products', 'orders' 테이블이 있습니다. 'staff' 테이블에 영업사원 정보가 있을 가능성이 높고 'products' 테이블에 제품 정보가 있을 가능성이 높습니다. 'orders' 테이블에는 주문이 들어 있을 가능성이 높습니다. 'staff' 테이블과 'products' 테이블의 스키마를 확인해 보겠습니다.\n",
      "\n",
      "  Function call: describe_table(table_name=staff)\n",
      "  Function call: describe_table(table_name=products)\n",
      "\n",
      "User:\n",
      "  Function response:\n",
      "    [('staff_id', 'INTEGER'), ('first_name', 'VARCHAR(255)'), ('last_name', 'VARCHAR(255)')]\n",
      "  Function response:\n",
      "    [('product_id', 'INTEGER'), ('product_name', 'VARCHAR(255)'), ('price', 'DECIMAL(10, 2)')]\n",
      "\n",
      "Model:\n",
      "  \"'staff' 테이블에는 'staff_id', 'first_name', 'last_name' 열이 있습니다. 'products' 테이블에는 'product_id', 'product_name', 'price' 열이 있습니다. 앨리스가 판매한 제품을 찾으려면 'orders' 테이블에 'staff_id'와 'product_id'가 모두 들어 있어야 합니다. 'orders' 테이블의 스키마를 확인해 보겠습니다.\n",
      "\n",
      "  Function call: describe_table(table_name=orders)\n",
      "\n",
      "User:\n",
      "  Function response:\n",
      "    [('order_id', 'INTEGER'), ('customer_name', 'VARCHAR(255)'), ('staff_id', 'INTEGER'), ('product_id', 'INTEGER')]\n",
      "\n",
      "Model:\n",
      "  \"'orders' 테이블에는 'staff_id'와 'product_id' 열이 모두 있습니다.\n",
      "\n",
      "이제 앨리스(Alice)가 판매한 제품을 알 수 있습니다. 먼저 앨리스의 'staff_id'를 찾아야 합니다.\n",
      "\n",
      "  Function call: execute_query(sql=SELECT staff_id FROM staff WHERE first_name = 'Alice')\n",
      "\n",
      "User:\n",
      "  Function response:\n",
      "    [(1,)]\n",
      "\n",
      "Model:\n",
      "  \"앨리스의 'staff_id'는 1입니다. 이제 앨리스가 판매한 제품을 확인할 수 있습니다.\n",
      "\n",
      "  Function call: execute_query(sql=SELECT product_id FROM orders WHERE staff_id = 1)\n",
      "\n",
      "User:\n",
      "  Function response:\n",
      "    [(1,), (3,)]\n",
      "\n",
      "Model:\n",
      "  \"앨리스는 'product_id' 1번과 3번을 판매했습니다. 앨리스는 포트폴리오를 완성하기 위해 판매하지 않은 제품에 집중해야 합니다. 모든 제품을 나열해 보겠습니다.\n",
      "\n",
      "  Function call: execute_query(sql=SELECT product_id FROM products)\n",
      "\n",
      "User:\n",
      "  Function response:\n",
      "    [(1,), (2,), (3,)]\n",
      "\n",
      "Model:\n",
      "  \"'product_id' 1번, 2번, 3번 제품이 있습니다. 앨리스는 'product_id' 1번과 3번을 판매했으므로 'product_id' 2번 제품은 판매하지 않았습니다. 앨리스는 'product_id' 2번 제품에 집중해야 합니다. 2번 제품의 이름은 무엇일까요?\n",
      "\n",
      "  Function call: execute_query(sql=SELECT product_name FROM products WHERE product_id = 2)\n",
      "\n",
      "User:\n",
      "  Function response:\n",
      "    [('Keyboard',)]\n",
      "\n",
      "Model:\n",
      "  \"앨리스는 포트폴리오를 완성하기 위해 키보드 판매에 집중해야 합니다. 그녀는 컴퓨터와 마우스를 판매했지만 키보드는 판매하지 않았기 때문입니다.\n",
      "\n",
      "\n"
     ]
    }
   ],
   "source": [
    "print_chat_turns(chat)"
   ]
  },
  {
   "cell_type": "markdown",
   "id": "c5abebac",
   "metadata": {},
   "source": [
    "## Compositional function calling\n",
    "\n",
    "Gemini 2.0의 강력한 새 기능 중 하나는 코드를 생성하는 동안 사용자가 제공한 함수 호출을 함께 구성할 수 있는 기능입니다.\n",
    "\n",
    "즉, 모델은 사용 가능한 도구를 사용하여 해당 도구를 사용하는 코드를 생성하고 이를 모두 실행할 수 있습니다.\n",
    "\n",
    "이 기능에는 Live API가 필요하므로 이 단계에서는 지금까지 살펴본 대부분의 예제와는 다른 설정 코드를 사용합니다. Multimodal Live API는 양방향 스트리밍 서비스이므로 모든 것이 미리 설정된 후 실행됩니다. 이는 조금 더 복잡하지만 그 결과는 매우 강력합니다.\n",
    "\n",
    "먼저 스트리밍 모델 출력을 처리하는 함수를 정의합니다. 이 함수는 텍스트 출력을 스트리밍하고, 도구 호출을 처리하고, 모델이 작업을 수행하기 위해 작성하고 실행하는 생성된 코드를 보여줍니다."
   ]
  },
  {
   "cell_type": "code",
   "execution_count": 10,
   "id": "885027e6",
   "metadata": {},
   "outputs": [],
   "source": [
    "from pprint import pformat\n",
    "from IPython.display import display, Image, Markdown\n",
    "\n",
    "async def handle_response(stream, tool_impl=None):\n",
    "    \"\"\"Stream out and handle any tool calls during the session\"\"\"\n",
    "    all_responses = []\n",
    "\n",
    "    async for msg in stream.receive():\n",
    "        all_responses.append(msg)\n",
    "\n",
    "        if text := msg.text:\n",
    "            # Output any text chunks that are streamed back.\n",
    "            if len(all_responses) < 2 or not all_responses[-2].text:\n",
    "                # Display a header if this is the first text chunk.\n",
    "                display(Markdown('### Text'))\n",
    "            \n",
    "            print(text, end='')\n",
    "        \n",
    "        elif tool_call := msg.tool_call:\n",
    "            # Handle tool-call requests.\n",
    "            for fc in tool_call.function_calls:\n",
    "                display(Markdown('### Tool call'))\n",
    "\n",
    "                # Execute the tool and collect the result to return to the model.\n",
    "                if callable(tool_impl):\n",
    "                    try:\n",
    "                        result = tool_impl(**fc.args)\n",
    "                    except Exception as e:\n",
    "                        result = str(e)\n",
    "                else:\n",
    "                    result = 'ok'\n",
    "                \n",
    "                tool_response = types.LiveClientToolResponse(\n",
    "                    function_responses=[types.FunctionResponse(\n",
    "                        name=fc.name,\n",
    "                        id=fc.id,\n",
    "                        response={'result': result},\n",
    "                    )]\n",
    "                )\n",
    "                await stream.send(input=tool_response)\n",
    "\n",
    "        elif msg.server_content and msg.server_content.model_turn:\n",
    "            # Print andy messages showing code the model generated and run.\n",
    "\n",
    "            for part in msg.server_content.model_turn.parts:\n",
    "                if code := part.executable_code:\n",
    "                    display(Markdown(\n",
    "                        f'### Code\\n```\\n{code.code}\\n```'\n",
    "                    ))\n",
    "                elif result := part.code_execution_result:\n",
    "                    display(Markdown(\n",
    "                        f'### Result: {result.outcome}\\n'\n",
    "                        f'```\\n{pformat(result.output)}\\n```'\n",
    "                    ))\n",
    "                elif img := part.inline_data:\n",
    "                    display(Image(img.data))\n",
    "\n",
    "    print()\n",
    "    return all_responses"
   ]
  },
  {
   "cell_type": "markdown",
   "id": "d2bfe6e9",
   "metadata": {},
   "source": [
    "### Textual live database chat\n",
    "이제 모델에 연결하여 대화를 시작하세요.\n",
    "\n",
    "Live API는 스트리밍 API이므로 이 예제는 완전히 사전 스크립트화되어 있으며 사용자 입력은 단 하나뿐입니다. 그럼에도 불구하고, 요청은 모델이 데이터베이스를 조회하기 위해 약간의 왕복 작업을 수행해야 하며, 모델이 반복문에서 execute_query 도구를 사용하는 코드를 생성하는 것을 볼 수 있습니다."
   ]
  },
  {
   "cell_type": "code",
   "execution_count": 11,
   "id": "889b6122",
   "metadata": {},
   "outputs": [],
   "source": [
    "model = 'gemini-2.0-flash-exp'\n",
    "live_client = genai.Client(api_key=GOOGLE_API_KEY,\n",
    "                           http_options=types.HttpOptions(api_version='v1alpha'))\n",
    "\n",
    "# Wrap the existing execute_query tool you used in the earlier example.\n",
    "execute_query_tool_def = types.FunctionDeclaration.from_callable(\n",
    "    client=live_client, callable=execute_query\n",
    ")\n",
    "\n",
    "# Provide the model with enough information to use the tool, such as describing \n",
    "# the database so it understnads which SQL syntax to use.\n",
    "sys_int = \"\"\"당신은 데이터베이스 인터페이스입니다. `execute_query` 함수를 사용하여\n",
    "데이터베이스에서 테이블 스키마 같은 직접 정보를 조회하고,\n",
    "필요한 쿼리를 실행하고, 사용자에게 응답하여 사용자의 질문에 답변하세요.\n",
    "\n",
    "sqlite3 구문 SQL을 사용하여 테이블 스키마를 조회한 후,\n",
    "답변을 찾으면 사용자에게 알려야 합니다. 사용자가 작업을 요청하는 경우,\n",
    "작업을 실행해야 합니다.\n",
    "\"\"\"\n",
    "\n",
    "# sys_int = \"\"\"You are a database interface. Use the `execute_query` function\n",
    "# to answer the users questions by looking up information like schema in the database,\n",
    "# running any necessary queries and responding to the user.\n",
    "\n",
    "# You need to look up table schema using sqlite3 syntax SQL, then once an\n",
    "# answer is found be sure to tell the user. If the user is requesting an\n",
    "# action, you must also execute the actions.\n",
    "# \"\"\"\n",
    "\n",
    "config = {\n",
    "    \"response_modalities\": [\"TEXT\"],\n",
    "    \"system_instruction\": {\"parts\": [{\"text\": sys_int}]},\n",
    "    \"tools\": [\n",
    "        {\"code_execution\": {}},\n",
    "        {\"function_declarations\": [execute_query_tool_def.to_json_dict()]},\n",
    "    ],\n",
    "}"
   ]
  },
  {
   "cell_type": "code",
   "execution_count": 12,
   "id": "154c7105",
   "metadata": {},
   "outputs": [],
   "source": [
    "async def chat(stream, message):\n",
    "    await stream.send(input=message, end_of_turn=True)\n",
    "    await handle_response(stream, tool_impl=execute_query)    "
   ]
  },
  {
   "cell_type": "code",
   "execution_count": 13,
   "id": "58569631",
   "metadata": {},
   "outputs": [
    {
     "name": "stderr",
     "output_type": "stream",
     "text": [
      "/var/folders/sk/72429_w95sz049jdbs5_8p3n68w8h9/T/ipykernel_38382/1523470999.py:1: ExperimentalWarning: The live API is experimental and may change in future versions.\n",
      "  async with live_client.aio.live.connect(model=model, config=config) as session:\n"
     ]
    },
    {
     "name": "stdout",
     "output_type": "stream",
     "text": [
      "> order 테이블에 5개의 임의의 새로운 행을 생성하여 삽입하세요.\n",
      "\n"
     ]
    },
    {
     "data": {
      "text/markdown": [
       "### Text"
      ],
      "text/plain": [
       "<IPython.core.display.Markdown object>"
      ]
     },
     "metadata": {},
     "output_type": "display_data"
    },
    {
     "name": "stdout",
     "output_type": "stream",
     "text": [
      "삽입해야 하는 테이블의 스키마를 알아야 합니다. SQL 구문을 사용하여 order 테이블의 스키마를 얻어오겠습니다."
     ]
    },
    {
     "data": {
      "text/markdown": [
       "### Code\n",
       "```\n",
       "sql = \"PRAGMA table_info(orders)\"\n",
       "print(sql)\n",
       "\n",
       "```"
      ],
      "text/plain": [
       "<IPython.core.display.Markdown object>"
      ]
     },
     "metadata": {},
     "output_type": "display_data"
    },
    {
     "data": {
      "text/markdown": [
       "### Result: Outcome.OUTCOME_OK\n",
       "```\n",
       "'PRAGMA table_info(orders)\\n'\n",
       "```"
      ],
      "text/plain": [
       "<IPython.core.display.Markdown object>"
      ]
     },
     "metadata": {},
     "output_type": "display_data"
    },
    {
     "data": {
      "text/markdown": [
       "### Text"
      ],
      "text/plain": [
       "<IPython.core.display.Markdown object>"
      ]
     },
     "metadata": {},
     "output_type": "display_data"
    },
    {
     "name": "stdout",
     "output_type": "stream",
     "text": [
      "이제 테이블의 스키마를 얻어왔습니다. 이제 5개의 임의의 새 행을 생성하여 삽입해 보겠습니다. 적절한 값을 제공해야 하므로, `execute_query`를 실행한 후에 생성된 스키마를 검토해야 합니다."
     ]
    },
    {
     "data": {
      "text/markdown": [
       "### Code\n",
       "```\n",
       "sql = \"PRAGMA table_info(orders)\"\n",
       "result = default_api.execute_query(sql=sql)\n",
       "print(result)\n",
       "\n",
       "```"
      ],
      "text/plain": [
       "<IPython.core.display.Markdown object>"
      ]
     },
     "metadata": {},
     "output_type": "display_data"
    },
    {
     "data": {
      "text/markdown": [
       "### Tool call"
      ],
      "text/plain": [
       "<IPython.core.display.Markdown object>"
      ]
     },
     "metadata": {},
     "output_type": "display_data"
    },
    {
     "name": "stdout",
     "output_type": "stream",
     "text": [
      " - DB CALL: execute_query(PRAGMA table_info(orders))\n"
     ]
    },
    {
     "data": {
      "text/markdown": [
       "### Result: Outcome.OUTCOME_OK\n",
       "```\n",
       "(\"{'result': [[0, 'order_id', 'INTEGER', 0, None, 1], [1, 'customer_name', \"\n",
       " \"'VARCHAR(255)', 1, None, 0], [2, 'staff_id', 'INTEGER', 1, None, 0], [3, \"\n",
       " \"'product_id', 'INTEGER', 1, None, 0]]}\\n\")\n",
       "```"
      ],
      "text/plain": [
       "<IPython.core.display.Markdown object>"
      ]
     },
     "metadata": {},
     "output_type": "display_data"
    },
    {
     "data": {
      "text/markdown": [
       "### Text"
      ],
      "text/plain": [
       "<IPython.core.display.Markdown object>"
      ]
     },
     "metadata": {},
     "output_type": "display_data"
    },
    {
     "name": "stdout",
     "output_type": "stream",
     "text": [
      "좋습니다. 이제 orders 테이블의 스키마를 알고 있습니다. 테이블은 다음과 같습니다.\n",
      "order_id INTEGER PRIMARY KEY,\n",
      "customer_name VARCHAR(255) NOT NULL,\n",
      "staff_id INTEGER NOT NULL,\n",
      "product_id INTEGER NOT NULL\n",
      "\n",
      "이제 5개의 임의의 새 행을 삽입하는 SQL 쿼리를 만들 수 있습니다.\n",
      "직원 ID 및 제품 ID가 존재하는지, 그리고 테이블에 있는지 확인하지는 않습니다.\n",
      "\n"
     ]
    },
    {
     "data": {
      "text/markdown": [
       "### Code\n",
       "```\n",
       "sql = \"\"\"\n",
       "INSERT INTO orders (customer_name, staff_id, product_id) VALUES\n",
       "('John Smith', 1, 101),\n",
       "('Alice Johnson', 2, 102),\n",
       "('Bob Williams', 3, 103),\n",
       "('Emily Brown', 4, 104),\n",
       "('David Jones', 5, 105);\n",
       "\"\"\"\n",
       "print(sql)\n",
       "\n",
       "```"
      ],
      "text/plain": [
       "<IPython.core.display.Markdown object>"
      ]
     },
     "metadata": {},
     "output_type": "display_data"
    },
    {
     "data": {
      "text/markdown": [
       "### Result: Outcome.OUTCOME_OK\n",
       "```\n",
       "('\\n'\n",
       " 'INSERT INTO orders (customer_name, staff_id, product_id) VALUES\\n'\n",
       " \"('John Smith', 1, 101),\\n\"\n",
       " \"('Alice Johnson', 2, 102),\\n\"\n",
       " \"('Bob Williams', 3, 103),\\n\"\n",
       " \"('Emily Brown', 4, 104),\\n\"\n",
       " \"('David Jones', 5, 105);\\n\"\n",
       " '\\n')\n",
       "```"
      ],
      "text/plain": [
       "<IPython.core.display.Markdown object>"
      ]
     },
     "metadata": {},
     "output_type": "display_data"
    },
    {
     "data": {
      "text/markdown": [
       "### Text"
      ],
      "text/plain": [
       "<IPython.core.display.Markdown object>"
      ]
     },
     "metadata": {},
     "output_type": "display_data"
    },
    {
     "name": "stdout",
     "output_type": "stream",
     "text": [
      "이제 이 쿼리를 실행해 보겠습니다."
     ]
    },
    {
     "data": {
      "text/markdown": [
       "### Code\n",
       "```\n",
       "sql = \"\"\"\n",
       "INSERT INTO orders (customer_name, staff_id, product_id) VALUES\n",
       "('John Smith', 1, 101),\n",
       "('Alice Johnson', 2, 102),\n",
       "('Bob Williams', 3, 103),\n",
       "('Emily Brown', 4, 104),\n",
       "('David Jones', 5, 105);\n",
       "\"\"\"\n",
       "result = default_api.execute_query(sql=sql)\n",
       "print(result)\n",
       "\n",
       "```"
      ],
      "text/plain": [
       "<IPython.core.display.Markdown object>"
      ]
     },
     "metadata": {},
     "output_type": "display_data"
    },
    {
     "data": {
      "text/markdown": [
       "### Tool call"
      ],
      "text/plain": [
       "<IPython.core.display.Markdown object>"
      ]
     },
     "metadata": {},
     "output_type": "display_data"
    },
    {
     "name": "stdout",
     "output_type": "stream",
     "text": [
      " - DB CALL: execute_query(\n",
      "INSERT INTO orders (customer_name, staff_id, product_id) VALUES\n",
      "('John Smith', 1, 101),\n",
      "('Alice Johnson', 2, 102),\n",
      "('Bob Williams', 3, 103),\n",
      "('Emily Brown', 4, 104),\n",
      "('David Jones', 5, 105);\n",
      ")\n"
     ]
    },
    {
     "data": {
      "text/markdown": [
       "### Result: Outcome.OUTCOME_OK\n",
       "```\n",
       "\"{'result': []}\\n\"\n",
       "```"
      ],
      "text/plain": [
       "<IPython.core.display.Markdown object>"
      ]
     },
     "metadata": {},
     "output_type": "display_data"
    },
    {
     "name": "stdout",
     "output_type": "stream",
     "text": [
      "\n"
     ]
    }
   ],
   "source": [
    "async with live_client.aio.live.connect(model=model, config=config) as session:\n",
    "    # message = \"Please generate and insert 5 new rows in the orders table.\"\n",
    "    message = \"order 테이블에 5개의 임의의 새로운 행을 생성하여 삽입하세요.\"\n",
    "    print(f\"> {message}\\n\")\n",
    "\n",
    "    await chat(session, message)"
   ]
  },
  {
   "cell_type": "markdown",
   "id": "da1a3709",
   "metadata": {},
   "source": [
    "이전 단계의 출력에서 ​​모델이 작업을 완료하기 위해 생성한 코드를 보여주는 `코드` 섹션을 볼 수 있습니다. 코드는 다음과 같습니다.\n",
    "\n",
    "```py\n",
    "sql_statements = [ ... ]\n",
    "\n",
    "for sql in sql_statements:\n",
    "  print(default_api.execute_query(sql))\n",
    "```\n",
    "\n",
    "그런 다음 모델은 이 코드를 (원격으로) 실행하여 코드의 해당 부분에 도달하면 제공된 도구를 호출합니다. `default_api` 모듈에는 사용자가 제공한 도구가 포함되어 있습니다.\n",
    "\n",
    "이 예제는 단순히 루프로 실행되지만, 모델은 여러 도구와 더욱 복잡한 상호작용을 수행할 수 있으므로 Gemini API에 효과적으로 내장된 강력한 에이전트 프레임워크를 제공합니다."
   ]
  },
  {
   "cell_type": "markdown",
   "id": "798e3c4f",
   "metadata": {},
   "source": [
    "### Plotting the database\n",
    "\n",
    "다음 예제에서 내장된 에이전트 기능을 사용해 보세요. 모델이 데이터베이스 스키마나 환경을 추측하려고 시도하는 것을 볼 수 있습니다. 모델은 종종 실수를 하지만, `Text` 출력을 살펴보면 모델이 오류를 검사하고, 새로운 접근 방식을 시도하며, 실수를 통해 학습하는 모습을 확인할 수 있습니다.\n",
    "\n",
    "모델이 플롯을 반환하지 않으면 셀을 다시 실행해 보세요."
   ]
  },
  {
   "cell_type": "code",
   "execution_count": 14,
   "id": "33bda988",
   "metadata": {},
   "outputs": [
    {
     "name": "stdout",
     "output_type": "stream",
     "text": [
      " - DB CALL: execute_query(select * from orders)\n"
     ]
    },
    {
     "data": {
      "text/plain": [
       "[(1, 'David Lee', 1, 1),\n",
       " (2, 'Emily Chen', 2, 2),\n",
       " (3, 'Frank Brown', 1, 3),\n",
       " (4, 'John Smith', 1, 101),\n",
       " (5, 'Alice Johnson', 2, 102),\n",
       " (6, 'Bob Williams', 3, 103),\n",
       " (7, 'Emily Brown', 4, 104),\n",
       " (8, 'David Jones', 5, 105)]"
      ]
     },
     "execution_count": 14,
     "metadata": {},
     "output_type": "execute_result"
    }
   ],
   "source": [
    "execute_query(\"select * from orders\")"
   ]
  },
  {
   "cell_type": "code",
   "execution_count": 15,
   "id": "9b15062b",
   "metadata": {},
   "outputs": [
    {
     "name": "stdout",
     "output_type": "stream",
     "text": [
      " - DB CALL: execute_query(SELECT s.first_name, s.last_name, COUNT(o.order_id) AS total_orders\n",
      "    FROM staff s\n",
      "    LEFT JOIN orders o ON s.staff_id = o.staff_id\n",
      "    GROUP BY s.staff_id, s.first_name, s.last_name;)\n"
     ]
    },
    {
     "data": {
      "text/plain": [
       "[('Alice', 'Smith', 3), ('Bob', 'Johnson', 2), ('Charlie', 'Williams', 1)]"
      ]
     },
     "execution_count": 15,
     "metadata": {},
     "output_type": "execute_result"
    }
   ],
   "source": [
    "execute_query(\"\"\"SELECT s.first_name, s.last_name, COUNT(o.order_id) AS total_orders\n",
    "    FROM staff s\n",
    "    LEFT JOIN orders o ON s.staff_id = o.staff_id\n",
    "    GROUP BY s.staff_id, s.first_name, s.last_name;\"\"\")"
   ]
  },
  {
   "cell_type": "code",
   "execution_count": 16,
   "id": "e27c9f70",
   "metadata": {},
   "outputs": [
    {
     "data": {
      "text/markdown": [
       "### Text"
      ],
      "text/plain": [
       "<IPython.core.display.Markdown object>"
      ]
     },
     "metadata": {},
     "output_type": "display_data"
    },
    {
     "name": "stdout",
     "output_type": "stream",
     "text": [
      "네, 가능합니다. 먼저 데이터베이스 스키마를 조회하여 어떤 테이블이 있는지, 직원과 주문에 관한 정보가 어디에 있는지 알아야 합니다. 그런 다음 필요한 정보를 얻기 위한 쿼리를 작성할 수 있습니다.\n"
     ]
    },
    {
     "data": {
      "text/markdown": [
       "### Code\n",
       "```\n",
       "import json\n",
       "try:\n",
       "    table_info_sql = \"SELECT sql FROM sqlite_master WHERE type='table';\"\n",
       "    table_info_response = default_api.execute_query(sql=table_info_sql)\n",
       "    print(json.dumps(table_info_response, indent=4))\n",
       "except Exception as e:\n",
       "    print(f\"An error occurred: {e}\")\n",
       "\n",
       "```"
      ],
      "text/plain": [
       "<IPython.core.display.Markdown object>"
      ]
     },
     "metadata": {},
     "output_type": "display_data"
    },
    {
     "data": {
      "text/markdown": [
       "### Tool call"
      ],
      "text/plain": [
       "<IPython.core.display.Markdown object>"
      ]
     },
     "metadata": {},
     "output_type": "display_data"
    },
    {
     "name": "stdout",
     "output_type": "stream",
     "text": [
      " - DB CALL: execute_query(SELECT sql FROM sqlite_master WHERE type='table';)\n"
     ]
    },
    {
     "data": {
      "text/markdown": [
       "### Result: Outcome.OUTCOME_OK\n",
       "```\n",
       "('{\\n'\n",
       " '    \"result\": [\\n'\n",
       " '        [\\n'\n",
       " '            \"CREATE TABLE sqlite_sequence(name,seq)\"\\n'\n",
       " '        ],\\n'\n",
       " '        [\\n'\n",
       " '            \"CREATE TABLE products (\\\\n  \\\\tproduct_id INTEGER PRIMARY KEY '\n",
       " 'AUTOINCREMENT,\\\\n  \\\\tproduct_name VARCHAR(255) NOT NULL,\\\\n  \\\\tprice '\n",
       " 'DECIMAL(10, 2) NOT NULL\\\\n  )\"\\n'\n",
       " '        ],\\n'\n",
       " '        [\\n'\n",
       " '            \"CREATE TABLE staff (\\\\n  \\\\tstaff_id INTEGER PRIMARY KEY '\n",
       " 'AUTOINCREMENT,\\\\n  \\\\tfirst_name VARCHAR(255) NOT NULL,\\\\n  \\\\tlast_name '\n",
       " 'VARCHAR(255) NOT NULL\\\\n  )\"\\n'\n",
       " '        ],\\n'\n",
       " '        [\\n'\n",
       " '            \"CREATE TABLE orders (\\\\n  \\\\torder_id INTEGER PRIMARY KEY '\n",
       " 'AUTOINCREMENT,\\\\n  \\\\tcustomer_name VARCHAR(255) NOT NULL,\\\\n  \\\\tstaff_id '\n",
       " 'INTEGER NOT NULL,\\\\n  \\\\tproduct_id INTEGER NOT NULL,\\\\n  \\\\tFOREIGN KEY '\n",
       " '(staff_id) REFERENCES staff (staff_id),\\\\n  \\\\tFOREIGN KEY (product_id) '\n",
       " 'REFERENCES products (product_id)\\\\n  )\"\\n'\n",
       " '        ]\\n'\n",
       " '    ]\\n'\n",
       " '}\\n')\n",
       "```"
      ],
      "text/plain": [
       "<IPython.core.display.Markdown object>"
      ]
     },
     "metadata": {},
     "output_type": "display_data"
    },
    {
     "data": {
      "text/markdown": [
       "### Text"
      ],
      "text/plain": [
       "<IPython.core.display.Markdown object>"
      ]
     },
     "metadata": {},
     "output_type": "display_data"
    },
    {
     "name": "stdout",
     "output_type": "stream",
     "text": [
      "확인했습니다. 직원 테이블(`staff`)과 주문 테이블(`orders`)이 있습니다. 주문 테이블에는 `staff_id` 열이 있어 직원을 주문과 연결할 수 있습니다. 이제 각 직원이 주문한 수량을 알려주는 쿼리를 작성할 수 있습니다.\n"
     ]
    },
    {
     "data": {
      "text/markdown": [
       "### Code\n",
       "```\n",
       "import json\n",
       "try:\n",
       "    query = \"\"\"\n",
       "    SELECT s.first_name, s.last_name, COUNT(o.order_id) AS total_orders\n",
       "    FROM staff s\n",
       "    LEFT JOIN orders o ON s.staff_id = o.staff_id\n",
       "    GROUP BY s.staff_id, s.first_name, s.last_name;\n",
       "    \"\"\"\n",
       "    response = default_api.execute_query(sql=query)\n",
       "    print(json.dumps(response, indent=4))\n",
       "except Exception as e:\n",
       "    print(f\"An error occurred: {e}\")\n",
       "\n",
       "```"
      ],
      "text/plain": [
       "<IPython.core.display.Markdown object>"
      ]
     },
     "metadata": {},
     "output_type": "display_data"
    },
    {
     "data": {
      "text/markdown": [
       "### Tool call"
      ],
      "text/plain": [
       "<IPython.core.display.Markdown object>"
      ]
     },
     "metadata": {},
     "output_type": "display_data"
    },
    {
     "name": "stdout",
     "output_type": "stream",
     "text": [
      " - DB CALL: execute_query(\n",
      "    SELECT s.first_name, s.last_name, COUNT(o.order_id) AS total_orders\n",
      "    FROM staff s\n",
      "    LEFT JOIN orders o ON s.staff_id = o.staff_id\n",
      "    GROUP BY s.staff_id, s.first_name, s.last_name;\n",
      "    )\n"
     ]
    },
    {
     "data": {
      "text/markdown": [
       "### Result: Outcome.OUTCOME_OK\n",
       "```\n",
       "('{\\n'\n",
       " '    \"result\": [\\n'\n",
       " '        [\\n'\n",
       " '            \"Alice\",\\n'\n",
       " '            \"Smith\",\\n'\n",
       " '            3\\n'\n",
       " '        ],\\n'\n",
       " '        [\\n'\n",
       " '            \"Bob\",\\n'\n",
       " '            \"Johnson\",\\n'\n",
       " '            2\\n'\n",
       " '        ],\\n'\n",
       " '        [\\n'\n",
       " '            \"Charlie\",\\n'\n",
       " '            \"Williams\",\\n'\n",
       " '            1\\n'\n",
       " '        ]\\n'\n",
       " '    ]\\n'\n",
       " '}\\n')\n",
       "```"
      ],
      "text/plain": [
       "<IPython.core.display.Markdown object>"
      ]
     },
     "metadata": {},
     "output_type": "display_data"
    },
    {
     "data": {
      "text/markdown": [
       "### Text"
      ],
      "text/plain": [
       "<IPython.core.display.Markdown object>"
      ]
     },
     "metadata": {},
     "output_type": "display_data"
    },
    {
     "name": "stdout",
     "output_type": "stream",
     "text": [
      "결과가 나왔습니다. Alice Smith는 3개의 주문을, Bob Johnson은 2개의 주문을, Charlie Williams는 1개의 주문을 했습니다.\n"
     ]
    },
    {
     "data": {
      "text/markdown": [
       "### Text"
      ],
      "text/plain": [
       "<IPython.core.display.Markdown object>"
      ]
     },
     "metadata": {},
     "output_type": "display_data"
    },
    {
     "name": "stdout",
     "output_type": "stream",
     "text": [
      "직원 이름을 사용하여 Python Seaborn 차트로 총 주문 수를 플로팅하기 위한 코드를 생성하고 실행합니다.\n"
     ]
    },
    {
     "data": {
      "text/markdown": [
       "### Code\n",
       "```\n",
       "import pandas as pd\n",
       "import seaborn as sns\n",
       "import matplotlib.pyplot as plt\n",
       "import json\n",
       "\n",
       "try:\n",
       "    query = \"\"\"\n",
       "    SELECT s.first_name, s.last_name, COUNT(o.order_id) AS total_orders\n",
       "    FROM staff s\n",
       "    LEFT JOIN orders o ON s.staff_id = o.staff_id\n",
       "    GROUP BY s.staff_id, s.first_name, s.last_name;\n",
       "    \"\"\"\n",
       "    response = default_api.execute_query(sql=query)\n",
       "    data = response[\"result\"]\n",
       "    df = pd.DataFrame(data, columns=['first_name', 'last_name', 'total_orders'])\n",
       "    df['full_name'] = df['first_name'] + ' ' + df['last_name']\n",
       "\n",
       "    plt.figure(figsize=(10, 6))\n",
       "    sns.barplot(x='full_name', y='total_orders', data=df)\n",
       "    plt.title('Total Orders per Staff Member')\n",
       "    plt.xlabel('Staff Member')\n",
       "    plt.ylabel('Total Orders')\n",
       "    plt.xticks(rotation=45, ha='right')\n",
       "    plt.tight_layout()\n",
       "    plt.show()\n",
       "\n",
       "except Exception as e:\n",
       "    print(f\"An error occurred: {e}\")\n",
       "\n",
       "```"
      ],
      "text/plain": [
       "<IPython.core.display.Markdown object>"
      ]
     },
     "metadata": {},
     "output_type": "display_data"
    },
    {
     "data": {
      "text/markdown": [
       "### Tool call"
      ],
      "text/plain": [
       "<IPython.core.display.Markdown object>"
      ]
     },
     "metadata": {},
     "output_type": "display_data"
    },
    {
     "name": "stdout",
     "output_type": "stream",
     "text": [
      " - DB CALL: execute_query(\n",
      "    SELECT s.first_name, s.last_name, COUNT(o.order_id) AS total_orders\n",
      "    FROM staff s\n",
      "    LEFT JOIN orders o ON s.staff_id = o.staff_id\n",
      "    GROUP BY s.staff_id, s.first_name, s.last_name;\n",
      "    )\n"
     ]
    },
    {
     "data": {
      "image/png": "[encoded data removed]",
      "text/plain": [
       "<IPython.core.display.Image object>"
      ]
     },
     "metadata": {},
     "output_type": "display_data"
    },
    {
     "data": {
      "text/markdown": [
       "### Text"
      ],
      "text/plain": [
       "<IPython.core.display.Markdown object>"
      ]
     },
     "metadata": {},
     "output_type": "display_data"
    },
    {
     "name": "stdout",
     "output_type": "stream",
     "text": [
      "저는 그래프를 성공적으로 생성하고 플로팅했습니다. 여기에는 각 직원의 총 주문 수를 보여주는 막대 그래프가 표시됩니다.\n"
     ]
    }
   ],
   "source": [
    "async with live_client.aio.live.connect(model=model, config=config) as session:\n",
    "\n",
    "    # message = \"Can you figure out the number of orders that were made by each of the staff?\"\n",
    "    message = \"각 직원이 주문한 수량을 알아낼 수 있나요?\"\n",
    "\n",
    "    await chat(session, message)\n",
    "\n",
    "    # message = \"Generate and run some code to plot this as a python seaborn chart using staff's name\"\n",
    "    message = \"직원 이름을 사용하여 Python Seaborn 차트로 이를 간결하게 플로팅하기 위한 코드를 생성하고 실행합니다.\"\n",
    "\n",
    "    await chat(session, message)\n"
   ]
  },
  {
   "cell_type": "code",
   "execution_count": null,
   "id": "93b371a6",
   "metadata": {},
   "outputs": [],
   "source": []
  }
 ],
 "metadata": {
  "kernelspec": {
   "display_name": ".venv",
   "language": "python",
   "name": "python3"
  },
  "language_info": {
   "codemirror_mode": {
    "name": "ipython",
    "version": 3
   },
   "file_extension": ".py",
   "mimetype": "text/x-python",
   "name": "python",
   "nbconvert_exporter": "python",
   "pygments_lexer": "ipython3",
   "version": "3.12.0"
  }
 },
 "nbformat": 4,
 "nbformat_minor": 5
}
