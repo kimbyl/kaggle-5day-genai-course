{
 "cells": [
  {
   "cell_type": "markdown",
   "id": "de56d0f4",
   "metadata": {},
   "source": [
    "##### Copyright 2025 Google LLC."
   ]
  },
  {
   "cell_type": "code",
   "execution_count": null,
   "id": "967c47cd",
   "metadata": {},
   "outputs": [],
   "source": [
    "# @title Licensed under the Apache License, Version 2.0 (the \"License\");\n",
    "# you may not use this file except in compliance with the License.\n",
    "# You may obtain a copy of the License at\n",
    "#\n",
    "# https://www.apache.org/licenses/LICENSE-2.0\n",
    "#\n",
    "# Unless required by applicable law or agreed to in writing, software\n",
    "# distributed under the License is distributed on an \"AS IS\" BASIS,\n",
    "# WITHOUT WARRANTIES OR CONDITIONS OF ANY KIND, either express or implied.\n",
    "# See the License for the specific language governing permissions and\n",
    "# limitations under the License."
   ]
  },
  {
   "cell_type": "code",
   "execution_count": 1,
   "id": "b63e4cc5",
   "metadata": {},
   "outputs": [
    {
     "name": "stdout",
     "output_type": "stream",
     "text": [
      "\n",
      "\u001b[1m[\u001b[0m\u001b[34;49mnotice\u001b[0m\u001b[1;39;49m]\u001b[0m\u001b[39;49m A new release of pip is available: \u001b[0m\u001b[31;49m23.2.1\u001b[0m\u001b[39;49m -> \u001b[0m\u001b[32;49m25.0.1\u001b[0m\n",
      "\u001b[1m[\u001b[0m\u001b[34;49mnotice\u001b[0m\u001b[1;39;49m]\u001b[0m\u001b[39;49m To update, run: \u001b[0m\u001b[32;49mpip install --upgrade pip\u001b[0m\n",
      "Note: you may need to restart the kernel to use updated packages.\n"
     ]
    }
   ],
   "source": [
    "%pip install -U -q \"google-genai==1.7.0\""
   ]
  },
  {
   "cell_type": "code",
   "execution_count": 2,
   "id": "c84ec417",
   "metadata": {},
   "outputs": [
    {
     "data": {
      "text/plain": [
       "'1.7.0'"
      ]
     },
     "execution_count": 2,
     "metadata": {},
     "output_type": "execute_result"
    }
   ],
   "source": [
    "from google import genai\n",
    "from google.genai import types\n",
    "\n",
    "genai.__version__"
   ]
  },
  {
   "cell_type": "code",
   "execution_count": 3,
   "id": "3f06eca8",
   "metadata": {},
   "outputs": [],
   "source": [
    "import os\n",
    "GOOGLE_API_KEY = os.getenv(\"GOOGLE_API_KEY\")\n",
    "\n",
    "client = genai.Client(api_key=GOOGLE_API_KEY)"
   ]
  },
  {
   "cell_type": "code",
   "execution_count": 4,
   "id": "f753aae2",
   "metadata": {},
   "outputs": [
    {
     "name": "stdout",
     "output_type": "stream",
     "text": [
      "models/gemini-1.5-flash-001-tuning\n"
     ]
    }
   ],
   "source": [
    "for model in client.models.list():\n",
    "    if \"createTunedModel\" in model.supported_actions:\n",
    "        print(model.name)"
   ]
  },
  {
   "cell_type": "markdown",
   "id": "37a1d1ef",
   "metadata": {},
   "source": [
    "## Download the dataset\n",
    "\n"
   ]
  },
  {
   "cell_type": "code",
   "execution_count": 5,
   "id": "cd22bcc8",
   "metadata": {},
   "outputs": [
    {
     "data": {
      "text/plain": [
       "['alt.atheism',\n",
       " 'comp.graphics',\n",
       " 'comp.os.ms-windows.misc',\n",
       " 'comp.sys.ibm.pc.hardware',\n",
       " 'comp.sys.mac.hardware',\n",
       " 'comp.windows.x',\n",
       " 'misc.forsale',\n",
       " 'rec.autos',\n",
       " 'rec.motorcycles',\n",
       " 'rec.sport.baseball',\n",
       " 'rec.sport.hockey',\n",
       " 'sci.crypt',\n",
       " 'sci.electronics',\n",
       " 'sci.med',\n",
       " 'sci.space',\n",
       " 'soc.religion.christian',\n",
       " 'talk.politics.guns',\n",
       " 'talk.politics.mideast',\n",
       " 'talk.politics.misc',\n",
       " 'talk.religion.misc']"
      ]
     },
     "execution_count": 5,
     "metadata": {},
     "output_type": "execute_result"
    }
   ],
   "source": [
    "from sklearn.datasets import fetch_20newsgroups\n",
    "\n",
    "newsgroups_train = fetch_20newsgroups(subset=\"train\")\n",
    "newsgroups_test = fetch_20newsgroups(subset=\"test\")\n",
    "\n",
    "newsgroups_train.target_names"
   ]
  },
  {
   "cell_type": "code",
   "execution_count": 6,
   "id": "376ddb9d",
   "metadata": {},
   "outputs": [
    {
     "name": "stdout",
     "output_type": "stream",
     "text": [
      "From: lerxst@wam.umd.edu (where's my thing)\n",
      "Subject: WHAT car is this!?\n",
      "Nntp-Posting-Host: rac3.wam.umd.edu\n",
      "Organization: University of Maryland, College Park\n",
      "Lines: 15\n",
      "\n",
      " I was wondering if anyone out there could enlighten me on this car I saw\n",
      "the other day. It was a 2-door sports car, looked to be from the late 60s/\n",
      "early 70s. It was called a Bricklin. The doors were really small. In addition,\n",
      "the front bumper was separate from the rest of the body. This is \n",
      "all I know. If anyone can tellme a model name, engine specs, years\n",
      "of production, where this car is made, history, or whatever info you\n",
      "have on this funky looking car, please e-mail.\n",
      "\n",
      "Thanks,\n",
      "- IL\n",
      "   ---- brought to you by your neighborhood Lerxst ----\n",
      "\n",
      "\n",
      "\n",
      "\n",
      "\n"
     ]
    }
   ],
   "source": [
    "print(newsgroups_train.data[0])"
   ]
  },
  {
   "cell_type": "markdown",
   "id": "287b0a92",
   "metadata": {},
   "source": [
    "## Prepare the dataset"
   ]
  },
  {
   "cell_type": "code",
   "execution_count": 7,
   "id": "43633128",
   "metadata": {},
   "outputs": [],
   "source": [
    "import email\n",
    "import re\n",
    "\n",
    "import pandas as pd\n",
    "\n",
    "def preprocess_newsgroup_row(data):\n",
    "    msg = email.message_from_string(data)\n",
    "    text = f\"{msg['Subject']}\\n\\n{msg.get_payload()}\"\n",
    "\n",
    "    text = re.sub(r\"[\\w\\.-]+@[\\w\\.-]+\", \"\", text)\n",
    "\n",
    "    text = text[:40000]\n",
    "\n",
    "    return text\n",
    "\n",
    "def preprocess_newsgroup_data(newsgroup_dataset):\n",
    "    df = pd.DataFrame(\n",
    "        {\"Text\": newsgroup_dataset.data, \"Label\": newsgroup_dataset.target}\n",
    "    )\n",
    "\n",
    "    # Clean up the text\n",
    "    df['Text'] =df['Text'].apply(preprocess_newsgroup_row)\n",
    "\n",
    "    df[\"Class Name\"] = df[\"Label\"].map(lambda l: newsgroup_dataset.target_names[l])\n",
    "\n",
    "    return df"
   ]
  },
  {
   "cell_type": "code",
   "execution_count": 8,
   "id": "ad9eb69b",
   "metadata": {},
   "outputs": [
    {
     "data": {
      "text/html": [
       "<div>\n",
       "<style scoped>\n",
       "    .dataframe tbody tr th:only-of-type {\n",
       "        vertical-align: middle;\n",
       "    }\n",
       "\n",
       "    .dataframe tbody tr th {\n",
       "        vertical-align: top;\n",
       "    }\n",
       "\n",
       "    .dataframe thead th {\n",
       "        text-align: right;\n",
       "    }\n",
       "</style>\n",
       "<table border=\"1\" class=\"dataframe\">\n",
       "  <thead>\n",
       "    <tr style=\"text-align: right;\">\n",
       "      <th></th>\n",
       "      <th>Text</th>\n",
       "      <th>Label</th>\n",
       "      <th>Class Name</th>\n",
       "    </tr>\n",
       "  </thead>\n",
       "  <tbody>\n",
       "    <tr>\n",
       "      <th>0</th>\n",
       "      <td>WHAT car is this!?\\n\\n I was wondering if anyo...</td>\n",
       "      <td>7</td>\n",
       "      <td>rec.autos</td>\n",
       "    </tr>\n",
       "    <tr>\n",
       "      <th>1</th>\n",
       "      <td>SI Clock Poll - Final Call\\n\\nA fair number of...</td>\n",
       "      <td>4</td>\n",
       "      <td>comp.sys.mac.hardware</td>\n",
       "    </tr>\n",
       "    <tr>\n",
       "      <th>2</th>\n",
       "      <td>PB questions...\\n\\nwell folks, my mac plus fin...</td>\n",
       "      <td>4</td>\n",
       "      <td>comp.sys.mac.hardware</td>\n",
       "    </tr>\n",
       "    <tr>\n",
       "      <th>3</th>\n",
       "      <td>Re: Weitek P9000 ?\\n\\nRobert J.C. Kyanko () wr...</td>\n",
       "      <td>1</td>\n",
       "      <td>comp.graphics</td>\n",
       "    </tr>\n",
       "    <tr>\n",
       "      <th>4</th>\n",
       "      <td>Re: Shuttle Launch Question\\n\\nFrom article &lt;&gt;...</td>\n",
       "      <td>14</td>\n",
       "      <td>sci.space</td>\n",
       "    </tr>\n",
       "  </tbody>\n",
       "</table>\n",
       "</div>"
      ],
      "text/plain": [
       "                                                Text  Label  \\\n",
       "0  WHAT car is this!?\\n\\n I was wondering if anyo...      7   \n",
       "1  SI Clock Poll - Final Call\\n\\nA fair number of...      4   \n",
       "2  PB questions...\\n\\nwell folks, my mac plus fin...      4   \n",
       "3  Re: Weitek P9000 ?\\n\\nRobert J.C. Kyanko () wr...      1   \n",
       "4  Re: Shuttle Launch Question\\n\\nFrom article <>...     14   \n",
       "\n",
       "              Class Name  \n",
       "0              rec.autos  \n",
       "1  comp.sys.mac.hardware  \n",
       "2  comp.sys.mac.hardware  \n",
       "3          comp.graphics  \n",
       "4              sci.space  "
      ]
     },
     "execution_count": 8,
     "metadata": {},
     "output_type": "execute_result"
    }
   ],
   "source": [
    "# Apply preprocessing to training and test datasets\n",
    "df_train = preprocess_newsgroup_data(newsgroups_train)\n",
    "df_test = preprocess_newsgroup_data(newsgroups_test)\n",
    "\n",
    "df_train.head()"
   ]
  },
  {
   "cell_type": "code",
   "execution_count": 9,
   "id": "405c01ff",
   "metadata": {},
   "outputs": [],
   "source": [
    "def sample_data(df, num_samples, classes_to_keep):\n",
    "    df =(\n",
    "        df.groupby(\"Label\")[df.columns]\n",
    "        .apply(lambda x: x.sample(num_samples))\n",
    "        .reset_index(drop=True)\n",
    "    )\n",
    "\n",
    "    df = df[df[\"Class Name\"].str.contains(classes_to_keep)]\n",
    "    df[\"Class Name\"] = df[\"Class Name\"].astype(\"category\")\n",
    "\n",
    "    return df"
   ]
  },
  {
   "cell_type": "code",
   "execution_count": 10,
   "id": "ae87b5f9",
   "metadata": {},
   "outputs": [],
   "source": [
    "TRAIN_NUM_SAMPLES = 50\n",
    "TEST_NUM_SAMPLES = 10\n",
    "\n",
    "CLASSES_TO_KEEP = \"^rec|^sci\"\n",
    "\n",
    "df_train = sample_data(df_train, TRAIN_NUM_SAMPLES, CLASSES_TO_KEEP)\n",
    "df_test = sample_data(df_test, TEST_NUM_SAMPLES, CLASSES_TO_KEEP)"
   ]
  },
  {
   "cell_type": "markdown",
   "id": "f03fe6df",
   "metadata": {},
   "source": [
    "## Evaluate baseline performance"
   ]
  },
  {
   "cell_type": "code",
   "execution_count": 11,
   "id": "6c760ae8",
   "metadata": {},
   "outputs": [
    {
     "name": "stdout",
     "output_type": "stream",
     "text": [
      "Need info on 88-89 Bonneville\n",
      "\n",
      "\n",
      " I am a little confused on all of the models of the 88-89 bonnevilles.\n",
      "I have heard of the LE SE LSE SSE SSEI. Could someone tell me the\n",
      "differences are far as features or performance. I am also curious to\n",
      "know what the book value is for prefereably the 89 model. And how much\n",
      "less than book value can you usually get them for. In other words how\n",
      "much are they in demand this time of year. I have heard that the mid-spring\n",
      "early summer is the best time to buy.\n",
      "\n",
      "\t\t\tNeil Gandler\n",
      "\n",
      "---\n",
      "Label: rec.autos\n"
     ]
    }
   ],
   "source": [
    "sample_idx = 0\n",
    "sample_row = preprocess_newsgroup_row(newsgroups_test.data[sample_idx])\n",
    "sample_label = newsgroups_test.target_names[newsgroups_test.target[sample_idx]]\n",
    "\n",
    "print(sample_row)\n",
    "print('---')\n",
    "print('Label:', sample_label)"
   ]
  },
  {
   "cell_type": "code",
   "execution_count": 12,
   "id": "4114d967",
   "metadata": {},
   "outputs": [
    {
     "name": "stdout",
     "output_type": "stream",
     "text": [
      "You are right to be confused, the 1988-1989 Pontiac Bonneville model designations are a bit of a mess.  Here is a breakdown to help clear things up:\n",
      "\n",
      "**1988-1989 Pontiac Bonneville Trim Levels:**\n",
      "\n",
      "* **LE:** This was the base model, offering a standard V6 engine and basic features. \n",
      "* **SE:**  The \"SE\" stood for \"Special Edition.\"  It usually had a slightly more luxurious interior, possibly with cloth or vinyl upholstery, and some additional features.  It may have included an optional V8 engine.  The \"SE\" could be further broken down into:\n",
      "    * **LSE:**  The \"LSE\" was a special \"Luxury Special Edition\" which added more interior luxury and features.  It could also include a V8 engine as an option.\n",
      "    * **SSE:**  The \"SSE\"  was the \"Sport Special Edition\" and was more focused on performance.  It usually came standard with a powerful V8 engine, upgraded suspension, and sporty exterior touches. \n",
      "* **SSEi:**  This was the ultimate performance variant and stood for \"Sport Special Edition Injected.\" It came with a fuel-injected V8 engine that delivered even more power.  It also had more aggressive styling and performance-oriented features.\n",
      "\n",
      "**Features and Performance:**\n",
      "\n",
      "* **Engine Options:**  The 1988-1989 Bonnevilles offered a choice of 3.8L V6, 5.0L V8, or 5.7L V8 engines.  The V6 was the most fuel-efficient, while the V8s offered increasing levels of horsepower and torque.\n",
      "* **Suspension and Handling:**  The SE and SSE trims had sportier suspension tuning, offering better handling. The SSEi had the most aggressive suspension setup for the best performance.\n",
      "* **Interior and Exterior:**  The SE and LSE focused on luxury with plush interiors and added amenities.  The SSE and SSEi focused on sporty design and features.\n",
      "\n",
      "**Book Value and Current Demand:**\n",
      "\n",
      "Unfortunately, providing an exact book value for a 1989 Bonneville is impossible without knowing the specific trim level, condition, mileage, and options. You can get a general idea using online resources such as:\n",
      "\n",
      "* **Kelley Blue Book (KBB):** [https://www.kbb.com/](https://www.kbb.com/)\n",
      "* **Edmunds:** [https://www.edmunds.com/](https://www.edmunds.com/)\n",
      "* **NADAguides:** [https://www.nadaguides.com/](https://www.nadaguides.com/)\n",
      "\n",
      "These sites allow you to enter the vehicle's information and get a value based on its condition and market trends.\n",
      "\n",
      "**Demand and Pricing:**\n",
      "\n",
      "1988-1989 Bonnevilles, especially the base models, are not in high demand.  You can often get them for significantly less than book value.  You may find that asking price is 30-50% below book value, depending on condition, mileage, and options. \n",
      "\n",
      "**Mid-Spring/Early Summer:**\n",
      "\n",
      "While your timing is not ideal, you can still find deals on these vehicles.  Typically, the spring and early summer are considered better times to buy used cars as people are more likely to sell them to make way for new summer vehicles.\n",
      "\n",
      "**Important Considerations:**\n",
      "\n",
      "* **Condition:** Be sure to have a mechanic inspect any Bonneville before buying it.  These older vehicles can have maintenance issues that may lead to high repair costs.\n",
      "* **Rust:** Inspect for rust, especially in the body panels, undercarriage, and frame. \n",
      "* **Mileage:** Higher mileage vehicles may have higher maintenance costs.\n",
      "\n",
      "Remember, researching the specific vehicle you are interested in will help you determine its value and negotiate a fair price. Good luck with your search! \n",
      "\n"
     ]
    }
   ],
   "source": [
    "response = client.models.generate_content(\n",
    "    model=\"gemini-1.5-flash-001\", contents=sample_row\n",
    ")\n",
    "\n",
    "print(response.text)"
   ]
  },
  {
   "cell_type": "code",
   "execution_count": 13,
   "id": "fb6a3036",
   "metadata": {},
   "outputs": [
    {
     "name": "stdout",
     "output_type": "stream",
     "text": [
      "This message likely originates from the **alt.autos.pontiac** newsgroup. \n",
      "\n",
      "Here's why:\n",
      "\n",
      "* **Topic:** The message focuses specifically on Pontiac Bonnevilles from the 1988-1989 model years.\n",
      "* **Specific Model References:** The message mentions specific trim levels (LE, SE, LSE, SSE, SSEi) which are relevant to Pontiac Bonnevilles.\n",
      "* **Newsgroup Focus:**  The alt.autos.pontiac newsgroup is dedicated to discussions about Pontiac vehicles, making it the most likely source for this type of inquiry. \n",
      "\n"
     ]
    }
   ],
   "source": [
    "prompt = \"From what newsgroup does the following message originate?\"\n",
    "baseline_response = client.models.generate_content(\n",
    "    model=\"gemini-1.5-flash-001\",\n",
    "    contents=[prompt, sample_row]\n",
    ")\n",
    "print(baseline_response.text)"
   ]
  },
  {
   "cell_type": "code",
   "execution_count": 14,
   "id": "8169b61e",
   "metadata": {},
   "outputs": [],
   "source": [
    "from google.api_core import retry\n",
    "\n",
    "system_instruct = \"\"\"\n",
    "You are a classification service. You will be passed input that represents\n",
    "a newsgroup post and you must respond with the newsgroup from which the post\n",
    "originates.\n",
    "\"\"\"\n",
    "\n",
    "# helper\n",
    "is_retriable = lambda e: (isinstance(e, genai.errors.APIError) and e.code in {429, 503})"
   ]
  },
  {
   "cell_type": "code",
   "execution_count": 15,
   "id": "f9d8c68e",
   "metadata": {},
   "outputs": [],
   "source": [
    "@retry.Retry(predicate=is_retriable)\n",
    "def predict_label(post: str) -> str:\n",
    "    response = client.models.generate_content(\n",
    "        model=\"gemini-1.5-flash-001\",\n",
    "        config=types.GenerateContentConfig(\n",
    "            system_instruction=system_instruct\n",
    "        ),\n",
    "        contents=post\n",
    "    )\n",
    "\n",
    "    rc = response.candidates[0]\n",
    "\n",
    "    # Any errors, filters, recitation, etc we can mark as a general error\n",
    "    if rc.finish_reason.name != \"STOP\":\n",
    "        return \"(error)\"\n",
    "    else:\n",
    "        return response.text.strip()\n",
    "    \n"
   ]
  },
  {
   "cell_type": "code",
   "execution_count": 16,
   "id": "9de14503",
   "metadata": {},
   "outputs": [],
   "source": [
    "prediction = predict_label(sample_row)"
   ]
  },
  {
   "cell_type": "code",
   "execution_count": 17,
   "id": "1a96a6bd",
   "metadata": {},
   "outputs": [
    {
     "name": "stdout",
     "output_type": "stream",
     "text": [
      "rec.autos.misc\n",
      "---\n",
      "Incorrect.\n"
     ]
    }
   ],
   "source": [
    "print(prediction)\n",
    "print(\"---\")\n",
    "print(\"Correct!\" if prediction == sample_label else \"Incorrect.\")"
   ]
  },
  {
   "cell_type": "code",
   "execution_count": 18,
   "id": "5c2ddda7",
   "metadata": {},
   "outputs": [],
   "source": [
    "import tqdm\n",
    "from tqdm.rich import tqdm as tqdmr\n",
    "import warnings\n",
    "\n",
    "tqdmr.pandas()\n",
    "\n",
    "warnings.filterwarnings(\"ignore\", category=tqdm.TqdmExperimentalWarning)\n"
   ]
  },
  {
   "cell_type": "code",
   "execution_count": 19,
   "id": "4ab734c8",
   "metadata": {},
   "outputs": [
    {
     "data": {
      "application/vnd.jupyter.widget-view+json": {
       "model_id": "df8150ca0dc344768e8938c50aa07f56",
       "version_major": 2,
       "version_minor": 0
      },
      "text/plain": [
       "Output()"
      ]
     },
     "metadata": {},
     "output_type": "display_data"
    },
    {
     "data": {
      "text/html": [
       "<pre style=\"white-space:pre;overflow-x:auto;line-height:normal;font-family:Menlo,'DejaVu Sans Mono',consolas,'Courier New',monospace\"></pre>\n"
      ],
      "text/plain": []
     },
     "metadata": {},
     "output_type": "display_data"
    },
    {
     "name": "stdout",
     "output_type": "stream",
     "text": [
      "Accuracy: 31.25%\n"
     ]
    }
   ],
   "source": [
    "df_baseline_eval = sample_data(df_test, 2, \".*\")\n",
    "\n",
    "df_baseline_eval['Prediction'] = df_baseline_eval['Text'].progress_apply(predict_label)\n",
    "\n",
    "accuracy = (df_baseline_eval[\"Class Name\"] == df_baseline_eval[\"Prediction\"]).sum() / len(df_baseline_eval)\n",
    "\n",
    "print(f\"Accuracy: {accuracy:.2%}\")\n"
   ]
  },
  {
   "cell_type": "code",
   "execution_count": 20,
   "id": "2ca31c34",
   "metadata": {},
   "outputs": [
    {
     "data": {
      "text/html": [
       "<div>\n",
       "<style scoped>\n",
       "    .dataframe tbody tr th:only-of-type {\n",
       "        vertical-align: middle;\n",
       "    }\n",
       "\n",
       "    .dataframe tbody tr th {\n",
       "        vertical-align: top;\n",
       "    }\n",
       "\n",
       "    .dataframe thead th {\n",
       "        text-align: right;\n",
       "    }\n",
       "</style>\n",
       "<table border=\"1\" class=\"dataframe\">\n",
       "  <thead>\n",
       "    <tr style=\"text-align: right;\">\n",
       "      <th></th>\n",
       "      <th>Text</th>\n",
       "      <th>Label</th>\n",
       "      <th>Class Name</th>\n",
       "      <th>Prediction</th>\n",
       "    </tr>\n",
       "  </thead>\n",
       "  <tbody>\n",
       "    <tr>\n",
       "      <th>0</th>\n",
       "      <td>Re: WHAT car is this!?\\n\\nIn article ,  (Marku...</td>\n",
       "      <td>7</td>\n",
       "      <td>rec.autos</td>\n",
       "      <td>rec.autos.misc</td>\n",
       "    </tr>\n",
       "    <tr>\n",
       "      <th>1</th>\n",
       "      <td>Re: Choice of gauges\\n\\n (Dave Gauge) writes:\\...</td>\n",
       "      <td>7</td>\n",
       "      <td>rec.autos</td>\n",
       "      <td>rec.autos.bmw</td>\n",
       "    </tr>\n",
       "    <tr>\n",
       "      <th>2</th>\n",
       "      <td>Re: Riceburner Respect\\n\\nIn article &lt;&gt; \\n (Ch...</td>\n",
       "      <td>8</td>\n",
       "      <td>rec.motorcycles</td>\n",
       "      <td>rec.motorcycles</td>\n",
       "    </tr>\n",
       "    <tr>\n",
       "      <th>3</th>\n",
       "      <td>1st time Biker iso ADVICE\\n\\n\\nI'm just starti...</td>\n",
       "      <td>8</td>\n",
       "      <td>rec.motorcycles</td>\n",
       "      <td>rec.motorcycles</td>\n",
       "    </tr>\n",
       "    <tr>\n",
       "      <th>4</th>\n",
       "      <td>John Franco\\n\\nWhat's with John Franco?  The M...</td>\n",
       "      <td>9</td>\n",
       "      <td>rec.sport.baseball</td>\n",
       "      <td>rec.sport.baseball</td>\n",
       "    </tr>\n",
       "    <tr>\n",
       "      <th>5</th>\n",
       "      <td>Re: Bosox go down in smoke II (Seattle 7-0) .....</td>\n",
       "      <td>9</td>\n",
       "      <td>rec.sport.baseball</td>\n",
       "      <td>rec.sports.baseball</td>\n",
       "    </tr>\n",
       "    <tr>\n",
       "      <th>6</th>\n",
       "      <td>Re: ESPN sucks: OT or Baseball?  Guess which.\\...</td>\n",
       "      <td>10</td>\n",
       "      <td>rec.sport.hockey</td>\n",
       "      <td>rec.sport.hockey</td>\n",
       "    </tr>\n",
       "    <tr>\n",
       "      <th>7</th>\n",
       "      <td>Re: Goodbye, good riddance, get lost 'Stars\\n\\...</td>\n",
       "      <td>10</td>\n",
       "      <td>rec.sport.hockey</td>\n",
       "      <td>rec.sport.hockey</td>\n",
       "    </tr>\n",
       "    <tr>\n",
       "      <th>8</th>\n",
       "      <td>Re: Why the clipper algorithm is secret\\n\\nIn ...</td>\n",
       "      <td>11</td>\n",
       "      <td>sci.crypt</td>\n",
       "      <td>(error)</td>\n",
       "    </tr>\n",
       "    <tr>\n",
       "      <th>9</th>\n",
       "      <td>Re: Once they get your keys....\\n\\nIn article ...</td>\n",
       "      <td>11</td>\n",
       "      <td>sci.crypt</td>\n",
       "      <td>(error)</td>\n",
       "    </tr>\n",
       "    <tr>\n",
       "      <th>10</th>\n",
       "      <td>Re: help with phone wire: which ones are \"tip\"...</td>\n",
       "      <td>12</td>\n",
       "      <td>sci.electronics</td>\n",
       "      <td>rec.telephony</td>\n",
       "    </tr>\n",
       "    <tr>\n",
       "      <th>11</th>\n",
       "      <td>EMI filter, What's in it?\\n\\nCould someone tel...</td>\n",
       "      <td>12</td>\n",
       "      <td>sci.electronics</td>\n",
       "      <td>comp.electronics.design</td>\n",
       "    </tr>\n",
       "    <tr>\n",
       "      <th>12</th>\n",
       "      <td>PMS-Can It Be Prevented By A Diet Change?\\n\\nT...</td>\n",
       "      <td>13</td>\n",
       "      <td>sci.med</td>\n",
       "      <td>alt.support.premenstrual-syndrome</td>\n",
       "    </tr>\n",
       "    <tr>\n",
       "      <th>13</th>\n",
       "      <td>Miscelaneous soon-to-have-baby questions\\n\\nWe...</td>\n",
       "      <td>13</td>\n",
       "      <td>sci.med</td>\n",
       "      <td>alt.culture.kids</td>\n",
       "    </tr>\n",
       "    <tr>\n",
       "      <th>14</th>\n",
       "      <td>Re: Vandalizing the sky.\\n\\nI'm wondering if \"...</td>\n",
       "      <td>14</td>\n",
       "      <td>sci.space</td>\n",
       "      <td>rec.sky</td>\n",
       "    </tr>\n",
       "    <tr>\n",
       "      <th>15</th>\n",
       "      <td>Re: Report on redesign team\\n\\nIn article &lt;&gt;  ...</td>\n",
       "      <td>14</td>\n",
       "      <td>sci.space</td>\n",
       "      <td>space.misc</td>\n",
       "    </tr>\n",
       "  </tbody>\n",
       "</table>\n",
       "</div>"
      ],
      "text/plain": [
       "                                                 Text  Label  \\\n",
       "0   Re: WHAT car is this!?\\n\\nIn article ,  (Marku...      7   \n",
       "1   Re: Choice of gauges\\n\\n (Dave Gauge) writes:\\...      7   \n",
       "2   Re: Riceburner Respect\\n\\nIn article <> \\n (Ch...      8   \n",
       "3   1st time Biker iso ADVICE\\n\\n\\nI'm just starti...      8   \n",
       "4   John Franco\\n\\nWhat's with John Franco?  The M...      9   \n",
       "5   Re: Bosox go down in smoke II (Seattle 7-0) .....      9   \n",
       "6   Re: ESPN sucks: OT or Baseball?  Guess which.\\...     10   \n",
       "7   Re: Goodbye, good riddance, get lost 'Stars\\n\\...     10   \n",
       "8   Re: Why the clipper algorithm is secret\\n\\nIn ...     11   \n",
       "9   Re: Once they get your keys....\\n\\nIn article ...     11   \n",
       "10  Re: help with phone wire: which ones are \"tip\"...     12   \n",
       "11  EMI filter, What's in it?\\n\\nCould someone tel...     12   \n",
       "12  PMS-Can It Be Prevented By A Diet Change?\\n\\nT...     13   \n",
       "13  Miscelaneous soon-to-have-baby questions\\n\\nWe...     13   \n",
       "14  Re: Vandalizing the sky.\\n\\nI'm wondering if \"...     14   \n",
       "15  Re: Report on redesign team\\n\\nIn article <>  ...     14   \n",
       "\n",
       "            Class Name                         Prediction  \n",
       "0            rec.autos                     rec.autos.misc  \n",
       "1            rec.autos                      rec.autos.bmw  \n",
       "2      rec.motorcycles                    rec.motorcycles  \n",
       "3      rec.motorcycles                    rec.motorcycles  \n",
       "4   rec.sport.baseball                 rec.sport.baseball  \n",
       "5   rec.sport.baseball                rec.sports.baseball  \n",
       "6     rec.sport.hockey                   rec.sport.hockey  \n",
       "7     rec.sport.hockey                   rec.sport.hockey  \n",
       "8            sci.crypt                            (error)  \n",
       "9            sci.crypt                            (error)  \n",
       "10     sci.electronics                      rec.telephony  \n",
       "11     sci.electronics            comp.electronics.design  \n",
       "12             sci.med  alt.support.premenstrual-syndrome  \n",
       "13             sci.med                   alt.culture.kids  \n",
       "14           sci.space                            rec.sky  \n",
       "15           sci.space                         space.misc  "
      ]
     },
     "execution_count": 20,
     "metadata": {},
     "output_type": "execute_result"
    }
   ],
   "source": [
    "df_baseline_eval"
   ]
  },
  {
   "cell_type": "markdown",
   "id": "8ef982bf",
   "metadata": {},
   "source": [
    "## Tune a custom model\n",
    "\n",
    "이 예제에서는 튜닝을 사용하여 프롬프트나 시스템 지침 없이 학습 데이터에 제공된 클래스에서 간결한 텍스트를 출력하는 모델을 생성합니다.\n",
    "\n",
    "데이터에는 입력 텍스트(처리된 게시물)와 출력 텍스트(카테고리 또는 뉴스그룹)가 모두 포함되어 있으며, 이를 사용하여 모델 튜닝을 시작할 수 있습니다.\n",
    "\n",
    "tune()을 호출할 때 모델 튜닝 하이퍼파라미터도 지정할 수 있습니다.\n",
    "\n",
    "* epoch_count: 데이터 반복 횟수를 정의합니다.\n",
    "* batch_size: 한 단계에서 처리할 행 수를 정의합니다.\n",
    "* learning_rate: 각 단계에서 모델 가중치를 업데이트하기 위한 스케일링 인자를 정의합니다.\n",
    "\n",
    "이러한 하이퍼파라미터를 생략하고 기본값을 사용할 수도 있습니다. 이러한 파라미터와 작동 방식에 대해 자세히 알아보세요. 이 예제에서는 튜닝 작업을 실행하고 효율적으로 수렴하는 파라미터를 선택하여 이러한 파라미터를 선택했습니다.\n",
    "\n",
    "이 예제에서는 새 튜닝 작업이 아직 없는 경우에만 시작합니다. 이를 통해 이 코드랩을 종료하고 나중에 다시 돌아올 수 있습니다. 이 단계를 다시 실행하면 마지막 모델을 찾을 수 있습니다."
   ]
  },
  {
   "cell_type": "code",
   "execution_count": 21,
   "id": "972601c9",
   "metadata": {},
   "outputs": [],
   "source": [
    "from collections.abc import Iterable\n",
    "import random\n",
    "\n",
    "# Convert the data frame into a dataset suitable for tuning.\n",
    "input_data = {'examples': \n",
    "              df_train[['Text', 'Class Name']]\n",
    "              .rename(columns={'Text': 'textInput', 'Class Name': 'output'})\n",
    "              .to_dict(orient='records')\n",
    "}"
   ]
  },
  {
   "cell_type": "code",
   "execution_count": 22,
   "id": "137e5361",
   "metadata": {},
   "outputs": [],
   "source": [
    "# If you are re-running this lab, add your model_id here.\n",
    "model_id = None\n",
    "# model_id = \"tunedModels/newsgroup-classification-model-fqremn0a7\"\n",
    "\n"
   ]
  },
  {
   "cell_type": "code",
   "execution_count": 23,
   "id": "485cc7d8",
   "metadata": {},
   "outputs": [
    {
     "name": "stdout",
     "output_type": "stream",
     "text": [
      "Found existing tuned model to reuse.\n"
     ]
    }
   ],
   "source": [
    "# Or try and find a recent tuning job.\n",
    "if not model_id:\n",
    "  queued_model = None\n",
    "  # Newest models first.\n",
    "  for m in reversed(client.tunings.list()):\n",
    "    # Only look at newsgroup classification models.\n",
    "    if m.name.startswith('tunedModels/newsgroup-classification-model'):\n",
    "      # If there is a completed model, use the first (newest) one.\n",
    "      if m.state.name == 'JOB_STATE_SUCCEEDED':\n",
    "        model_id = m.name\n",
    "        print('Found existing tuned model to reuse.')\n",
    "        break\n",
    "\n",
    "      elif m.state.name == 'JOB_STATE_RUNNING' and not queued_model:\n",
    "        # If there's a model still queued, remember the most recent one.\n",
    "        queued_model = m.name\n",
    "  else:\n",
    "    if queued_model:\n",
    "      model_id = queued_model\n",
    "      print('Found queued model, still waiting.')"
   ]
  },
  {
   "cell_type": "code",
   "execution_count": 24,
   "id": "ad07bcb2",
   "metadata": {},
   "outputs": [
    {
     "name": "stdout",
     "output_type": "stream",
     "text": [
      "tunedModels/newsgroup-classification-model-fqremn0a7\n"
     ]
    }
   ],
   "source": [
    "# Upload the training data and queue the tuning job.\n",
    "if not model_id:\n",
    "    tuning_op = client.tunings.tune(\n",
    "        base_model=\"models/gemini-1.5-flash-001-tunign\",\n",
    "        training_dataset=input_data,\n",
    "        config=types.CreateTuningJobConfig(\n",
    "            tuned_model_display_name=\"Newsgroup classification model\",\n",
    "            batch_size=16,\n",
    "            epoch_count=2,\n",
    "        )\n",
    "    )\n",
    "\n",
    "    print(tuning_op.state)\n",
    "    model_id = tuning_op.name\n",
    "\n",
    "print(model_id)"
   ]
  },
  {
   "cell_type": "code",
   "execution_count": 25,
   "id": "916f796d",
   "metadata": {},
   "outputs": [
    {
     "name": "stdout",
     "output_type": "stream",
     "text": [
      "Done! The model state is: JOB_STATE_SUCCEEDED\n"
     ]
    }
   ],
   "source": [
    "import datetime\n",
    "import time\n",
    "\n",
    "\n",
    "MAX_WAIT = datetime.timedelta(minutes=10)\n",
    "\n",
    "while not (tuned_model := client.tunings.get(name=model_id)).has_ended:\n",
    "\n",
    "    print(tuned_model.state)\n",
    "    time.sleep(60)\n",
    "\n",
    "    # Don't wait too long. Use a public model if this is going to take a while.\n",
    "    if datetime.datetime.now(datetime.timezone.utc) - tuned_model.create_time > MAX_WAIT:\n",
    "        print(\"Taking a shortcut, using a previously prepared model.\")\n",
    "        model_id = \"tunedModels/newsgroup-classification-model-ltenbi1b\"\n",
    "        tuned_model = client.tunings.get(name=model_id)\n",
    "        break\n",
    "\n",
    "\n",
    "print(f\"Done! The model state is: {tuned_model.state.name}\")\n",
    "\n",
    "if not tuned_model.has_succeeded and tuned_model.error:\n",
    "    print(\"Error:\", tuned_model.error)"
   ]
  },
  {
   "cell_type": "markdown",
   "id": "c34e769f",
   "metadata": {},
   "source": [
    "## Use the new model\n"
   ]
  },
  {
   "cell_type": "code",
   "execution_count": 26,
   "id": "a5d8393a",
   "metadata": {},
   "outputs": [],
   "source": [
    "new_text = \"\"\"\n",
    "First-timer looking to get out of here.\n",
    "Hi, I'm writing about my interest in travelling to the outer limits!\n",
    "What kind of craft can I buy? What is easiest to access from this 3rd rock?\n",
    "Let me know how to do that please.\n",
    "\"\"\""
   ]
  },
  {
   "cell_type": "code",
   "execution_count": 27,
   "id": "015cf1e4",
   "metadata": {},
   "outputs": [
    {
     "name": "stdout",
     "output_type": "stream",
     "text": [
      "sci.space\n"
     ]
    }
   ],
   "source": [
    "response = client.models.generate_content(\n",
    "    model=model_id,\n",
    "    contents=new_text\n",
    ")\n",
    "\n",
    "print(response.text)"
   ]
  },
  {
   "cell_type": "markdown",
   "id": "08aeb6b2",
   "metadata": {},
   "source": [
    "## Evaluation"
   ]
  },
  {
   "cell_type": "code",
   "execution_count": 28,
   "id": "0df9fba8",
   "metadata": {},
   "outputs": [],
   "source": [
    "@retry.Retry(predicate=is_retriable)\n",
    "def classify_text(text: str) -> str:\n",
    "    \"\"\"Classify the provided text into a known newsgroup.\"\"\"\n",
    "    response = client.models.generate_content(\n",
    "        model=model_id,\n",
    "        contents=text\n",
    "    )\n",
    "\n",
    "    rc =response.candidates[0]\n",
    "\n",
    "    if rc.finish_reason.name != \"STOP\":\n",
    "        return \"(error)\"\n",
    "    else:\n",
    "        return rc.content.parts[0].text\n",
    "    "
   ]
  },
  {
   "cell_type": "code",
   "execution_count": 29,
   "id": "6c2b031e",
   "metadata": {},
   "outputs": [
    {
     "data": {
      "application/vnd.jupyter.widget-view+json": {
       "model_id": "0419f6ab04dd4390a573b58eda712ad5",
       "version_major": 2,
       "version_minor": 0
      },
      "text/plain": [
       "Output()"
      ]
     },
     "metadata": {},
     "output_type": "display_data"
    },
    {
     "data": {
      "text/html": [
       "<pre style=\"white-space:pre;overflow-x:auto;line-height:normal;font-family:Menlo,'DejaVu Sans Mono',consolas,'Courier New',monospace\"></pre>\n"
      ],
      "text/plain": []
     },
     "metadata": {},
     "output_type": "display_data"
    },
    {
     "name": "stdout",
     "output_type": "stream",
     "text": [
      "Accuracy: 84.38%\n"
     ]
    }
   ],
   "source": [
    "df_model_eval = sample_data(df_test, 4, '.*')\n",
    "\n",
    "df_model_eval[\"Prediction\"] = df_model_eval[\"Text\"].progress_apply(classify_text)\n",
    "\n",
    "accuracy = (df_model_eval[\"Class Name\"] == df_model_eval[\"Prediction\"]).sum() / len(df_model_eval)\n",
    "print(f\"Accuracy: {accuracy:.2%}\")"
   ]
  },
  {
   "cell_type": "markdown",
   "id": "d730c084",
   "metadata": {},
   "source": [
    "## Compare token usage"
   ]
  },
  {
   "cell_type": "code",
   "execution_count": 30,
   "id": "ad3f7890",
   "metadata": {},
   "outputs": [
    {
     "name": "stdout",
     "output_type": "stream",
     "text": [
      "System instructed baseline model: 172 (input)\n"
     ]
    }
   ],
   "source": [
    "sysint_tokens = client.models.count_tokens(\n",
    "    model='gemini-1.5-flash-001',\n",
    "    contents=[system_instruct, sample_row]\n",
    ").total_tokens\n",
    "\n",
    "print(f'System instructed baseline model: {sysint_tokens} (input)')\n",
    "\n"
   ]
  },
  {
   "cell_type": "code",
   "execution_count": 31,
   "id": "f2923b98",
   "metadata": {},
   "outputs": [
    {
     "name": "stdout",
     "output_type": "stream",
     "text": [
      "Tuned model: 136 (input)\n"
     ]
    }
   ],
   "source": [
    "tuned_tokens = client.models.count_tokens(\n",
    "    model=tuned_model.base_model, \n",
    "    contents=sample_row,\n",
    ").total_tokens\n",
    "\n",
    "print(f'Tuned model: {tuned_tokens} (input)')"
   ]
  },
  {
   "cell_type": "code",
   "execution_count": 32,
   "id": "860aa03e",
   "metadata": {},
   "outputs": [
    {
     "name": "stdout",
     "output_type": "stream",
     "text": [
      "Token savings: 26.47%\n"
     ]
    }
   ],
   "source": [
    "savings = (sysint_tokens - tuned_tokens) / tuned_tokens\n",
    "print(f'Token savings: {savings:.2%}')"
   ]
  },
  {
   "cell_type": "code",
   "execution_count": 33,
   "id": "05a0cdd6",
   "metadata": {},
   "outputs": [
    {
     "name": "stdout",
     "output_type": "stream",
     "text": [
      "Baseline (verbose) output tokens: 123\n"
     ]
    }
   ],
   "source": [
    "baseline_token_output = baseline_response.usage_metadata.candidates_token_count\n",
    "print('Baseline (verbose) output tokens:', baseline_token_output)"
   ]
  },
  {
   "cell_type": "code",
   "execution_count": 35,
   "id": "b39269e6",
   "metadata": {},
   "outputs": [],
   "source": [
    "tuned_model_output = client.models.generate_content(\n",
    "    model=model_id,\n",
    "    contents=sample_row\n",
    ")"
   ]
  },
  {
   "cell_type": "code",
   "execution_count": 36,
   "id": "5d929503",
   "metadata": {},
   "outputs": [
    {
     "name": "stdout",
     "output_type": "stream",
     "text": [
      "Tuned output tokens: 4\n"
     ]
    }
   ],
   "source": [
    "tuned_token_output= tuned_model_output.usage_metadata.candidates_token_count\n",
    "print('Tuned output tokens:', tuned_token_output)"
   ]
  },
  {
   "cell_type": "code",
   "execution_count": null,
   "id": "7100d66e",
   "metadata": {},
   "outputs": [],
   "source": []
  }
 ],
 "metadata": {
  "kernelspec": {
   "display_name": ".venv",
   "language": "python",
   "name": "python3"
  },
  "language_info": {
   "codemirror_mode": {
    "name": "ipython",
    "version": 3
   },
   "file_extension": ".py",
   "mimetype": "text/x-python",
   "name": "python",
   "nbconvert_exporter": "python",
   "pygments_lexer": "ipython3",
   "version": "3.12.0"
  }
 },
 "nbformat": 4,
 "nbformat_minor": 5
}
