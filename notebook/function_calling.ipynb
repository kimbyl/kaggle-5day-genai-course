{
 "cells": [
  {
   "cell_type": "markdown",
   "id": "31aadce3",
   "metadata": {},
   "source": [
    "##### Copyright 2025 Google LLC."
   ]
  },
  {
   "cell_type": "code",
   "execution_count": null,
   "id": "c2474d78",
   "metadata": {},
   "outputs": [],
   "source": [
    "# @title Licensed under the Apache License, Version 2.0 (the \"License\");\n",
    "# you may not use this file except in compliance with the License.\n",
    "# You may obtain a copy of the License at\n",
    "#\n",
    "# https://www.apache.org/licenses/LICENSE-2.0\n",
    "#\n",
    "# Unless required by applicable law or agreed to in writing, software\n",
    "# distributed under the License is distributed on an \"AS IS\" BASIS,\n",
    "# WITHOUT WARRANTIES OR CONDITIONS OF ANY KIND, either express or implied.\n",
    "# See the License for the specific language governing permissions and\n",
    "# limitations under the License."
   ]
  },
  {
   "cell_type": "code",
   "execution_count": 3,
   "id": "9fed8bc5",
   "metadata": {},
   "outputs": [],
   "source": [
    "from google import genai\n",
    "from google.genai import types\n",
    "\n",
    "import os\n",
    "\n",
    "GOOGLE_API_KEY = os.getenv(\"GOOGLE_API_KEY\")"
   ]
  },
  {
   "cell_type": "code",
   "execution_count": 6,
   "id": "33ccda4b",
   "metadata": {},
   "outputs": [],
   "source": [
    "MODEL_ID = \"gemini-2.0-flash\"\n",
    "\n",
    "client = genai.Client(api_key=GOOGLE_API_KEY)"
   ]
  },
  {
   "cell_type": "code",
   "execution_count": 5,
   "id": "15581261",
   "metadata": {},
   "outputs": [],
   "source": [
    "def add(a: float, b: float):\n",
    "    \"\"\"returns a+b.\"\"\"\n",
    "    return a + b\n",
    "\n",
    "def sub(a: float, b: float):\n",
    "    \"\"\"returns a-b.\"\"\"\n",
    "    return a - b\n",
    "\n",
    "def mul(a: float, b: float):\n",
    "    \"\"\"returns a*b.\"\"\"\n",
    "    return a * b\n",
    "\n",
    "def div(a: float, b: float):\n",
    "    \"\"\"returns a/b.\"\"\"\n",
    "    return a / b\n"
   ]
  },
  {
   "cell_type": "code",
   "execution_count": 7,
   "id": "898b2014",
   "metadata": {},
   "outputs": [],
   "source": [
    "operational_tools = [add, sub, mul, div]\n",
    "\n",
    "chat = client.chats.create(\n",
    "    model=MODEL_ID,\n",
    "    config={\n",
    "        \"tools\": operational_tools,\n",
    "    }\n",
    ")"
   ]
  },
  {
   "cell_type": "code",
   "execution_count": 8,
   "id": "6d80aa9c",
   "metadata": {},
   "outputs": [
    {
     "data": {
      "text/plain": [
       "'전부 2508개의 장갑이 있습니다.'"
      ]
     },
     "execution_count": 8,
     "metadata": {},
     "output_type": "execute_result"
    }
   ],
   "source": [
    "response = chat.send_message(\"57마리의 고양이가 각각 44개의 장갑을 가지고 있다면, 전부 장갑은 몇개인가?\")\n",
    "response.text"
   ]
  },
  {
   "cell_type": "code",
   "execution_count": 10,
   "id": "547a492c",
   "metadata": {},
   "outputs": [
    {
     "data": {
      "text/markdown": [
       "### user:"
      ],
      "text/plain": [
       "<IPython.core.display.Markdown object>"
      ]
     },
     "metadata": {},
     "output_type": "display_data"
    },
    {
     "data": {
      "text/markdown": [
       "57마리의 고양이가 각각 44개의 장갑을 가지고 있다면, 전부 장갑은 몇개인가?"
      ],
      "text/plain": [
       "<IPython.core.display.Markdown object>"
      ]
     },
     "metadata": {},
     "output_type": "display_data"
    },
    {
     "name": "stdout",
     "output_type": "stream",
     "text": [
      "--------------------------------------------------------------------------------\n"
     ]
    },
    {
     "data": {
      "text/markdown": [
       "### model:"
      ],
      "text/plain": [
       "<IPython.core.display.Markdown object>"
      ]
     },
     "metadata": {},
     "output_type": "display_data"
    },
    {
     "name": "stdout",
     "output_type": "stream",
     "text": [
      "Function call: id=None args={'b': 44, 'a': 57} name='mul'\n",
      "--------------------------------------------------------------------------------\n"
     ]
    },
    {
     "data": {
      "text/markdown": [
       "### user:"
      ],
      "text/plain": [
       "<IPython.core.display.Markdown object>"
      ]
     },
     "metadata": {},
     "output_type": "display_data"
    },
    {
     "name": "stdout",
     "output_type": "stream",
     "text": [
      "Function response: id=None name='mul' response={'result': 2508}\n",
      "--------------------------------------------------------------------------------\n"
     ]
    },
    {
     "data": {
      "text/markdown": [
       "### model:"
      ],
      "text/plain": [
       "<IPython.core.display.Markdown object>"
      ]
     },
     "metadata": {},
     "output_type": "display_data"
    },
    {
     "data": {
      "text/markdown": [
       "전부 2508개의 장갑이 있습니다."
      ],
      "text/plain": [
       "<IPython.core.display.Markdown object>"
      ]
     },
     "metadata": {},
     "output_type": "display_data"
    },
    {
     "name": "stdout",
     "output_type": "stream",
     "text": [
      "--------------------------------------------------------------------------------\n"
     ]
    }
   ],
   "source": [
    "from IPython.display import Markdown, display\n",
    "\n",
    "for content in chat.get_history():\n",
    "    display(Markdown(\"### \" + content.role + \":\"))\n",
    "    for part in content.parts:\n",
    "        if part.text:\n",
    "            display(Markdown(part.text))\n",
    "        if part.function_call:\n",
    "            print(f\"Function call: {part.function_call}\")\n",
    "        if part.function_response:\n",
    "            print(f\"Function response: {part.function_response}\")\n",
    "    print(\"-\"*80)"
   ]
  },
  {
   "cell_type": "markdown",
   "id": "a21efdab",
   "metadata": {},
   "source": [
    "In general the state diagram is:\n",
    "\n",
    "![Function calling diagram](https://camo.githubusercontent.com/fa0b343427abf76115df71c5548c20b5ce65bbe0868b8eaa03c04c789e176895/68747470733a2f2f636f64656c6162732e646576656c6f706572732e676f6f676c652e636f6d2f7374617469632f636f64656c6162732f67656d696e692d66756e6374696f6e2d63616c6c696e672f696d672f67656d696e692d66756e6374696f6e2d63616c6c696e672d6f766572766965775f313434302e706e67)\n",
    "\n",
    "The model can respond with multiple function calls before returning a text response, and function calls come before the text response."
   ]
  },
  {
   "cell_type": "markdown",
   "id": "78c100ea",
   "metadata": {},
   "source": [
    "## Manual function calling"
   ]
  },
  {
   "cell_type": "code",
   "execution_count": 13,
   "id": "33fc1f46",
   "metadata": {},
   "outputs": [],
   "source": [
    "def find_movies(description: str, location: str):\n",
    "    \"\"\"find movie titles currently playing in theaters based on any description, genre, title words, etc.\n",
    "\n",
    "    Args:\n",
    "        description: Any kind of description including category or genre, title words, attributes, etc.\n",
    "        location: The city and state, e.g. San Francisco, CA or a zip code e.g. 95616\n",
    "    \"\"\"\n",
    "    return [\"Barbie\", \"Oppenheimer\"]\n",
    "\n",
    "def find_theaters(location: str, movie: str):\n",
    "    \"\"\"Find theaters based on location and optionally movie title which are is currently playing in theaters.\n",
    "\n",
    "    Args:\n",
    "        location: The city and state, e.g. San Francisco, CA or a zip code e.g. 95616\n",
    "        movie: Any movie title\n",
    "    \"\"\"\n",
    "    return [\"Googleplex 16\", \"Android Theatre\"]\n",
    "\n",
    "def get_showtimes(location: str, movie: str, theater: str, date: str):\n",
    "    \"\"\"\n",
    "    Find the start times for movies playing in a specific theater.\n",
    "\n",
    "    Args:\n",
    "      location: The city and state, e.g. San Francisco, CA or a zip code e.g. 95616\n",
    "      movie: Any movie title\n",
    "      thearer: Name of the theater\n",
    "      date: Date for requested showtime\n",
    "    \"\"\"\n",
    "\n",
    "    return [\"10:00\", \"11:00\"]"
   ]
  },
  {
   "cell_type": "code",
   "execution_count": 18,
   "id": "47398530",
   "metadata": {},
   "outputs": [],
   "source": [
    "theater_functions = [find_movies, find_theaters, get_showtimes]\n",
    "\n",
    "response = client.models.generate_content(\n",
    "    model=MODEL_ID,\n",
    "    contents=\"Which theaters in Mountain View show the Barbie movie?\",\n",
    "    config={\n",
    "        \"tools\": theater_functions,\n",
    "        \"automatic_function_calling\": {\"disable\": True}\n",
    "    }\n",
    ")\n"
   ]
  },
  {
   "cell_type": "code",
   "execution_count": 22,
   "id": "cbaf85f0",
   "metadata": {},
   "outputs": [
    {
     "name": "stdout",
     "output_type": "stream",
     "text": [
      "id=None args={'location': 'Mountain View, CA', 'movie': 'Barbie'} name='find_theaters'\n"
     ]
    }
   ],
   "source": [
    "for part in response.candidates[0].content.parts:\n",
    "    print(part.function_call)"
   ]
  },
  {
   "cell_type": "code",
   "execution_count": 23,
   "id": "81ac2e05",
   "metadata": {},
   "outputs": [],
   "source": [
    "def call_function(function_call, functions):\n",
    "    function_name = function_call.name\n",
    "    function_args = function_call.args\n",
    "    # Find the function object from the list based on the function name\n",
    "    for func in functions:\n",
    "        if func.__name__ == function_name:\n",
    "            return func(**function_args)"
   ]
  },
  {
   "cell_type": "code",
   "execution_count": 24,
   "id": "0947e4db",
   "metadata": {},
   "outputs": [],
   "source": [
    "part = response.candidates[0].content.parts[0]\n",
    "\n",
    "if part.function_call:\n",
    "    result = call_function(part.function_call, theater_functions)"
   ]
  },
  {
   "cell_type": "code",
   "execution_count": 25,
   "id": "941f8f05",
   "metadata": {},
   "outputs": [
    {
     "name": "stdout",
     "output_type": "stream",
     "text": [
      "['Googleplex 16', 'Android Theatre']\n"
     ]
    }
   ],
   "source": [
    "print(result)"
   ]
  },
  {
   "cell_type": "code",
   "execution_count": 33,
   "id": "bcfa02ae",
   "metadata": {},
   "outputs": [],
   "source": [
    "# Build the message history\n",
    "messages = [\n",
    "    genai.types.Content(\n",
    "        role=\"user\",\n",
    "        parts=[genai.types.Part(text=\"Which theaters in Mountain View show the Barbie movie?\")],\n",
    "    ),\n",
    "    genai.types.Content(\n",
    "        role=\"model\",\n",
    "        parts=[part]\n",
    "    ),\n",
    "    {\n",
    "        \"role\": \"user\", \n",
    "        \"parts\": [\n",
    "            {\n",
    "                \"function_response\": {\n",
    "                    \"response\": {\"output\": result},\n",
    "                    \"name\": part.function_call.name}\n",
    "            }\n",
    "        ]\n",
    "    },\n",
    "]"
   ]
  },
  {
   "cell_type": "code",
   "execution_count": 34,
   "id": "78cc18cf",
   "metadata": {},
   "outputs": [],
   "source": [
    "response = client.models.generate_content(\n",
    "    model=MODEL_ID,\n",
    "    contents=messages,\n",
    "    config = {\n",
    "        \"tools\": theater_functions,\n",
    "        \"automatic_function_calling\": {\"disable\": True}\n",
    "    }\n",
    ")"
   ]
  },
  {
   "cell_type": "code",
   "execution_count": 35,
   "id": "93a67361",
   "metadata": {},
   "outputs": [
    {
     "name": "stdout",
     "output_type": "stream",
     "text": [
      "Theaters in Mountain View that show the Barbie movie are Googleplex 16 and Android Theatre.\n"
     ]
    }
   ],
   "source": [
    "print(response.text)"
   ]
  },
  {
   "cell_type": "markdown",
   "id": "9ed6a0d3",
   "metadata": {},
   "source": [
    "## Function calling chain"
   ]
  },
  {
   "cell_type": "code",
   "execution_count": 41,
   "id": "b98dc1b8",
   "metadata": {},
   "outputs": [],
   "source": [
    "chat = client.chats.create(\n",
    "    model=MODEL_ID,\n",
    "    config={\n",
    "        \"tools\": theater_functions,\n",
    "    }\n",
    ")\n",
    "\n",
    "response = chat.send_message(\n",
    "    \"Which comedy movies are shown tonight (01/01/2025) in Mountain view, in which cinema and at what time?\"\n",
    ")\n",
    "\n"
   ]
  },
  {
   "cell_type": "code",
   "execution_count": 46,
   "id": "e1bdf8ec",
   "metadata": {},
   "outputs": [
    {
     "data": {
      "text/markdown": [
       "### user:"
      ],
      "text/plain": [
       "<IPython.core.display.Markdown object>"
      ]
     },
     "metadata": {},
     "output_type": "display_data"
    },
    {
     "data": {
      "text/markdown": [
       "Which comedy movies are shown tonight (01/01/2025) in Mountain view, in which cinema and at what time?"
      ],
      "text/plain": [
       "<IPython.core.display.Markdown object>"
      ]
     },
     "metadata": {},
     "output_type": "display_data"
    },
    {
     "name": "stdout",
     "output_type": "stream",
     "text": [
      "--------------------------------------------------------------------------------\n"
     ]
    },
    {
     "data": {
      "text/markdown": [
       "### model:"
      ],
      "text/plain": [
       "<IPython.core.display.Markdown object>"
      ]
     },
     "metadata": {},
     "output_type": "display_data"
    },
    {
     "name": "stdout",
     "output_type": "stream",
     "text": [
      "Function call: id=None args={'location': 'Mountain View, CA', 'description': 'comedy'} name='find_movies'\n",
      "--------------------------------------------------------------------------------\n"
     ]
    },
    {
     "data": {
      "text/markdown": [
       "### user:"
      ],
      "text/plain": [
       "<IPython.core.display.Markdown object>"
      ]
     },
     "metadata": {},
     "output_type": "display_data"
    },
    {
     "name": "stdout",
     "output_type": "stream",
     "text": [
      "Function response: id=None name='find_movies' response={'result': ['Barbie', 'Oppenheimer']}\n",
      "--------------------------------------------------------------------------------\n"
     ]
    },
    {
     "data": {
      "text/markdown": [
       "### model:"
      ],
      "text/plain": [
       "<IPython.core.display.Markdown object>"
      ]
     },
     "metadata": {},
     "output_type": "display_data"
    },
    {
     "data": {
      "text/markdown": [
       "I found the following comedy movies: Barbie and Oppenheimer.\n"
      ],
      "text/plain": [
       "<IPython.core.display.Markdown object>"
      ]
     },
     "metadata": {},
     "output_type": "display_data"
    },
    {
     "name": "stdout",
     "output_type": "stream",
     "text": [
      "Function call: id=None args={'location': 'Mountain View, CA', 'movie': 'Barbie'} name='find_theaters'\n",
      "--------------------------------------------------------------------------------\n"
     ]
    },
    {
     "data": {
      "text/markdown": [
       "### user:"
      ],
      "text/plain": [
       "<IPython.core.display.Markdown object>"
      ]
     },
     "metadata": {},
     "output_type": "display_data"
    },
    {
     "name": "stdout",
     "output_type": "stream",
     "text": [
      "Function response: id=None name='find_theaters' response={'result': ['Googleplex 16', 'Android Theatre']}\n",
      "--------------------------------------------------------------------------------\n"
     ]
    },
    {
     "data": {
      "text/markdown": [
       "### model:"
      ],
      "text/plain": [
       "<IPython.core.display.Markdown object>"
      ]
     },
     "metadata": {},
     "output_type": "display_data"
    },
    {
     "data": {
      "text/markdown": [
       "OK. Barbie is playing at Googleplex 16 and Android Theatre.\n"
      ],
      "text/plain": [
       "<IPython.core.display.Markdown object>"
      ]
     },
     "metadata": {},
     "output_type": "display_data"
    },
    {
     "name": "stdout",
     "output_type": "stream",
     "text": [
      "Function call: id=None args={'theater': 'Googleplex 16', 'location': 'Mountain View, CA', 'movie': 'Barbie', 'date': '01/01/2025'} name='get_showtimes'\n",
      "--------------------------------------------------------------------------------\n"
     ]
    },
    {
     "data": {
      "text/markdown": [
       "### user:"
      ],
      "text/plain": [
       "<IPython.core.display.Markdown object>"
      ]
     },
     "metadata": {},
     "output_type": "display_data"
    },
    {
     "name": "stdout",
     "output_type": "stream",
     "text": [
      "Function response: id=None name='get_showtimes' response={'result': ['10:00', '11:00']}\n",
      "--------------------------------------------------------------------------------\n"
     ]
    },
    {
     "data": {
      "text/markdown": [
       "### model:"
      ],
      "text/plain": [
       "<IPython.core.display.Markdown object>"
      ]
     },
     "metadata": {},
     "output_type": "display_data"
    },
    {
     "name": "stdout",
     "output_type": "stream",
     "text": [
      "Function call: id=None args={'location': 'Mountain View, CA', 'movie': 'Barbie', 'date': '01/01/2025', 'theater': 'Android Theatre'} name='get_showtimes'\n",
      "--------------------------------------------------------------------------------\n"
     ]
    },
    {
     "data": {
      "text/markdown": [
       "### user:"
      ],
      "text/plain": [
       "<IPython.core.display.Markdown object>"
      ]
     },
     "metadata": {},
     "output_type": "display_data"
    },
    {
     "name": "stdout",
     "output_type": "stream",
     "text": [
      "Function response: id=None name='get_showtimes' response={'result': ['10:00', '11:00']}\n",
      "--------------------------------------------------------------------------------\n"
     ]
    },
    {
     "data": {
      "text/markdown": [
       "### model:"
      ],
      "text/plain": [
       "<IPython.core.display.Markdown object>"
      ]
     },
     "metadata": {},
     "output_type": "display_data"
    },
    {
     "data": {
      "text/markdown": [
       "Barbie is playing at Googleplex 16 at 10:00 and 11:00 and at Android Theatre at 10:00 and 11:00.\n"
      ],
      "text/plain": [
       "<IPython.core.display.Markdown object>"
      ]
     },
     "metadata": {},
     "output_type": "display_data"
    },
    {
     "name": "stdout",
     "output_type": "stream",
     "text": [
      "Function call: id=None args={'movie': 'Oppenheimer', 'location': 'Mountain View, CA'} name='find_theaters'\n",
      "--------------------------------------------------------------------------------\n"
     ]
    },
    {
     "data": {
      "text/markdown": [
       "### user:"
      ],
      "text/plain": [
       "<IPython.core.display.Markdown object>"
      ]
     },
     "metadata": {},
     "output_type": "display_data"
    },
    {
     "name": "stdout",
     "output_type": "stream",
     "text": [
      "Function response: id=None name='find_theaters' response={'result': ['Googleplex 16', 'Android Theatre']}\n",
      "--------------------------------------------------------------------------------\n"
     ]
    },
    {
     "data": {
      "text/markdown": [
       "### model:"
      ],
      "text/plain": [
       "<IPython.core.display.Markdown object>"
      ]
     },
     "metadata": {},
     "output_type": "display_data"
    },
    {
     "data": {
      "text/markdown": [
       "Oppenheimer is playing at Googleplex 16 and Android Theatre.\n"
      ],
      "text/plain": [
       "<IPython.core.display.Markdown object>"
      ]
     },
     "metadata": {},
     "output_type": "display_data"
    },
    {
     "name": "stdout",
     "output_type": "stream",
     "text": [
      "Function call: id=None args={'date': '01/01/2025', 'movie': 'Oppenheimer', 'theater': 'Googleplex 16', 'location': 'Mountain View, CA'} name='get_showtimes'\n",
      "--------------------------------------------------------------------------------\n"
     ]
    },
    {
     "data": {
      "text/markdown": [
       "### user:"
      ],
      "text/plain": [
       "<IPython.core.display.Markdown object>"
      ]
     },
     "metadata": {},
     "output_type": "display_data"
    },
    {
     "name": "stdout",
     "output_type": "stream",
     "text": [
      "Function response: id=None name='get_showtimes' response={'result': ['10:00', '11:00']}\n",
      "--------------------------------------------------------------------------------\n"
     ]
    },
    {
     "data": {
      "text/markdown": [
       "### model:"
      ],
      "text/plain": [
       "<IPython.core.display.Markdown object>"
      ]
     },
     "metadata": {},
     "output_type": "display_data"
    },
    {
     "name": "stdout",
     "output_type": "stream",
     "text": [
      "Function call: id=None args={'movie': 'Oppenheimer', 'date': '01/01/2025', 'theater': 'Android Theatre', 'location': 'Mountain View, CA'} name='get_showtimes'\n",
      "--------------------------------------------------------------------------------\n"
     ]
    },
    {
     "data": {
      "text/markdown": [
       "### user:"
      ],
      "text/plain": [
       "<IPython.core.display.Markdown object>"
      ]
     },
     "metadata": {},
     "output_type": "display_data"
    },
    {
     "name": "stdout",
     "output_type": "stream",
     "text": [
      "Function response: id=None name='get_showtimes' response={'result': ['10:00', '11:00']}\n",
      "--------------------------------------------------------------------------------\n"
     ]
    },
    {
     "data": {
      "text/markdown": [
       "### model:"
      ],
      "text/plain": [
       "<IPython.core.display.Markdown object>"
      ]
     },
     "metadata": {},
     "output_type": "display_data"
    },
    {
     "data": {
      "text/markdown": [
       "Oppenheimer is playing at Googleplex 16 at 10:00 and 11:00 and at Android Theatre at 10:00 and 11:00.\n"
      ],
      "text/plain": [
       "<IPython.core.display.Markdown object>"
      ]
     },
     "metadata": {},
     "output_type": "display_data"
    },
    {
     "name": "stdout",
     "output_type": "stream",
     "text": [
      "--------------------------------------------------------------------------------\n"
     ]
    }
   ],
   "source": [
    "for content in chat.get_history():\n",
    "    display(Markdown(\"### \" + content.role + \":\"))\n",
    "    for part in content.parts:\n",
    "        if part.text:\n",
    "            display(Markdown(part.text))\n",
    "        if part.function_call:\n",
    "            print(f\"Function call: {part.function_call}\")\n",
    "        if part.function_response:\n",
    "            print(f\"Function response: {part.function_response}\")\n",
    "    print(\"-\"*80)"
   ]
  },
  {
   "cell_type": "markdown",
   "id": "8b9eb939",
   "metadata": {},
   "source": [
    "## Parallel function calls\n",
    "\n",
    "Gemini API는 한 번에 여러 함수를 호출할 수 있습니다. 이는 작업 완료를 위해 여러 함수 호출이 독립적으로 수행되는 시나리오에 적합합니다.\n",
    "\n",
    "먼저 도구를 설정하세요. 위 동영상 예시와 달리, 이 함수들은 호출 시 서로의 입력이 필요하지 않으므로 병렬 호출에 적합합니다."
   ]
  },
  {
   "cell_type": "code",
   "execution_count": 80,
   "id": "f86f319a",
   "metadata": {},
   "outputs": [],
   "source": [
    "def power_disco_ball(power: bool) -> bool:\n",
    "    \"\"\"Powers the spinning disco ball.\"\"\"\n",
    "    print(f\"Disco ball is {'spinning!' if power else 'stopped.'}\")\n",
    "    return True\n",
    "\n",
    "\n",
    "def start_music(energetic: bool, loud: bool, bpm: int) -> str:\n",
    "    \"\"\"Play some music matching the specified parameters.\n",
    "\n",
    "    Args:\n",
    "      energetic: Whether the music is energetic or not.\n",
    "      loud: Whether the music is loud or not.\n",
    "      bpm: The beats per minute of the music.\n",
    "\n",
    "    Returns: The name of the song being played.\n",
    "    \"\"\"\n",
    "    print(f\"Starting music! {energetic=} {loud=}, {bpm=}\")\n",
    "    return \"Never gonna give you up.\"\n",
    "\n",
    "\n",
    "def dim_lights(brightness: float) -> bool:\n",
    "    \"\"\"Dim the lights.\n",
    "\n",
    "    Args:\n",
    "      brightness: The brightness of the lights, 0.0 is off, 1.0 is full.\n",
    "    \"\"\"\n",
    "    print(f\"Lights are now set to {brightness:.0%}\")\n",
    "    return True"
   ]
  },
  {
   "cell_type": "code",
   "execution_count": 86,
   "id": "6a849cca",
   "metadata": {},
   "outputs": [],
   "source": [
    "house_fns = [power_disco_ball, start_music, dim_lights]\n",
    "\n",
    "chat = client.chats.create(\n",
    "    model=MODEL_ID,\n",
    "    config={\n",
    "        \"tools\": house_fns,        \n",
    "    }\n",
    ")"
   ]
  },
  {
   "cell_type": "code",
   "execution_count": 87,
   "id": "03c33b6f",
   "metadata": {},
   "outputs": [
    {
     "name": "stdout",
     "output_type": "stream",
     "text": [
      "Starting music! energetic=True loud=True, bpm=120\n",
      "Disco ball is spinning!\n",
      "Lights are now set to 50%\n"
     ]
    }
   ],
   "source": [
    "response = chat.send_message(\"Turn this place into a party! Play music, spin disco ball and dim the lights!\")"
   ]
  },
  {
   "cell_type": "code",
   "execution_count": 88,
   "id": "d22bbdbb",
   "metadata": {},
   "outputs": [
    {
     "data": {
      "text/markdown": [
       "### user:"
      ],
      "text/plain": [
       "<IPython.core.display.Markdown object>"
      ]
     },
     "metadata": {},
     "output_type": "display_data"
    },
    {
     "data": {
      "text/markdown": [
       "Turn this place into a party! Play music, spin disco ball and dim the lights!"
      ],
      "text/plain": [
       "<IPython.core.display.Markdown object>"
      ]
     },
     "metadata": {},
     "output_type": "display_data"
    },
    {
     "name": "stdout",
     "output_type": "stream",
     "text": [
      "--------------------------------------------------------------------------------\n"
     ]
    },
    {
     "data": {
      "text/markdown": [
       "### model:"
      ],
      "text/plain": [
       "<IPython.core.display.Markdown object>"
      ]
     },
     "metadata": {},
     "output_type": "display_data"
    },
    {
     "data": {
      "text/markdown": [
       "Let's get this party started!\n"
      ],
      "text/plain": [
       "<IPython.core.display.Markdown object>"
      ]
     },
     "metadata": {},
     "output_type": "display_data"
    },
    {
     "name": "stdout",
     "output_type": "stream",
     "text": [
      "Function call: id=None args={'energetic': True, 'loud': True, 'bpm': 120} name='start_music'\n",
      "Function call: id=None args={'power': True} name='power_disco_ball'\n",
      "Function call: id=None args={'brightness': 0.5} name='dim_lights'\n",
      "--------------------------------------------------------------------------------\n"
     ]
    },
    {
     "data": {
      "text/markdown": [
       "### user:"
      ],
      "text/plain": [
       "<IPython.core.display.Markdown object>"
      ]
     },
     "metadata": {},
     "output_type": "display_data"
    },
    {
     "name": "stdout",
     "output_type": "stream",
     "text": [
      "Function response: id=None name='start_music' response={'result': 'Never gonna give you up.'}\n",
      "Function response: id=None name='power_disco_ball' response={'result': True}\n",
      "Function response: id=None name='dim_lights' response={'result': True}\n",
      "--------------------------------------------------------------------------------\n"
     ]
    },
    {
     "data": {
      "text/markdown": [
       "### model:"
      ],
      "text/plain": [
       "<IPython.core.display.Markdown object>"
      ]
     },
     "metadata": {},
     "output_type": "display_data"
    },
    {
     "data": {
      "text/markdown": [
       "Alright! I'm playing \"Never gonna give you up.\", the disco ball is spinning, and the lights are dimmed. Let's party!\n"
      ],
      "text/plain": [
       "<IPython.core.display.Markdown object>"
      ]
     },
     "metadata": {},
     "output_type": "display_data"
    },
    {
     "name": "stdout",
     "output_type": "stream",
     "text": [
      "--------------------------------------------------------------------------------\n"
     ]
    }
   ],
   "source": [
    "for content in chat.get_history():\n",
    "    display(Markdown(\"### \" + content.role + \":\"))\n",
    "    for part in content.parts:\n",
    "        if part.text:\n",
    "            display(Markdown(part.text))\n",
    "        if part.function_call:\n",
    "            print(f\"Function call: {part.function_call}\")\n",
    "        if part.function_response:\n",
    "            print(f\"Function response: {part.function_response}\")\n",
    "    print(\"-\"*80)"
   ]
  },
  {
   "cell_type": "markdown",
   "id": "95452eb0",
   "metadata": {},
   "source": [
    "## Related examples\n",
    "\n",
    "Check those examples using function calling to give you more ideas on how to use that very useful feature:\n",
    "\n",
    "* [Barista Bot](https://github.com/google-gemini/cookbook/blob/e0bac2900f5f79e1920927fe524229486f44ed78/examples/Agents_Function_Calling_Barista_Bot.ipynb), an agent to order coffee\n",
    "* [Browser-as-a-tool](https://github.com/google-gemini/cookbook/blob/e0bac2900f5f79e1920927fe524229486f44ed78/examples/Browser_as_a_tool.ipynb), using function calling to call a web-browser.\n",
    "* Using function calling to [re-rank seach results](https://github.com/google-gemini/cookbook/blob/e0bac2900f5f79e1920927fe524229486f44ed78/examples/Search_reranking_using_embeddings.ipynb).\n",
    "* [Using tools with the Live API](https://github.com/google-gemini/cookbook/blob/e0bac2900f5f79e1920927fe524229486f44ed78/quickstarts/Get_started_LiveAPI_tools.ipynb), using function calling and other tools with the Live APIs."
   ]
  },
  {
   "cell_type": "markdown",
   "id": "a0de0337",
   "metadata": {},
   "source": []
  }
 ],
 "metadata": {
  "kernelspec": {
   "display_name": ".venv",
   "language": "python",
   "name": "python3"
  },
  "language_info": {
   "codemirror_mode": {
    "name": "ipython",
    "version": 3
   },
   "file_extension": ".py",
   "mimetype": "text/x-python",
   "name": "python",
   "nbconvert_exporter": "python",
   "pygments_lexer": "ipython3",
   "version": "3.12.0"
  }
 },
 "nbformat": 4,
 "nbformat_minor": 5
}
